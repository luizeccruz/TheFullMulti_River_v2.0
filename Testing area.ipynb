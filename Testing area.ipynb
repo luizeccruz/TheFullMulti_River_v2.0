{
 "cells": [
  {
   "cell_type": "markdown",
   "metadata": {},
   "source": [
    "# Testing area"
   ]
  },
  {
   "cell_type": "markdown",
   "metadata": {},
   "source": [
    "This notebook has as goal to test different strategies of manipulating data obtained from the model's main notebook"
   ]
  },
  {
   "cell_type": "markdown",
   "metadata": {},
   "source": [
    "##### Set up screen wide view"
   ]
  },
  {
   "cell_type": "code",
   "execution_count": 1,
   "metadata": {
    "ExecuteTime": {
     "end_time": "2022-07-11T12:35:34.503900Z",
     "start_time": "2022-07-11T12:35:34.469991Z"
    }
   },
   "outputs": [
    {
     "name": "stderr",
     "output_type": "stream",
     "text": [
      "C:\\Users\\luize\\AppData\\Local\\Temp\\ipykernel_48184\\82325636.py:1: DeprecationWarning: Importing display from IPython.core.display is deprecated since IPython 7.14, please import from IPython display\n",
      "  from IPython.core.display import display, HTML\n"
     ]
    },
    {
     "data": {
      "text/html": [
       "<style>.container { width:80% !important; }</style>"
      ],
      "text/plain": [
       "<IPython.core.display.HTML object>"
      ]
     },
     "metadata": {},
     "output_type": "display_data"
    }
   ],
   "source": [
    "from IPython.core.display import display, HTML\n",
    "display(HTML(\"<style>.container { width:80% !important; }</style>\"))"
   ]
  },
  {
   "cell_type": "markdown",
   "metadata": {},
   "source": [
    "# Import libraries and modules"
   ]
  },
  {
   "cell_type": "code",
   "execution_count": 2,
   "metadata": {
    "ExecuteTime": {
     "end_time": "2022-07-11T12:35:35.376744Z",
     "start_time": "2022-07-11T12:35:35.308908Z"
    }
   },
   "outputs": [],
   "source": [
    "##Import libraries\n",
    "import os\n",
    "import math\n",
    "import pandas as pd\n",
    "import itertools\n",
    "import numpy as np\n",
    "import matplotlib.patches as mpatches\n",
    "from matplotlib import pyplot as plt\n",
    "import seaborn as sns\n",
    "from matplotlib.colors import LogNorm\n",
    "from scipy.integrate import odeint\n",
    "from celluloid import Camera\n",
    "from cycler import cycler\n",
    "import warnings\n",
    "warnings.filterwarnings('ignore')\n",
    "%matplotlib inline"
   ]
  },
  {
   "cell_type": "code",
   "execution_count": 3,
   "metadata": {
    "ExecuteTime": {
     "end_time": "2022-07-11T12:35:35.798428Z",
     "start_time": "2022-07-11T12:35:35.776490Z"
    }
   },
   "outputs": [],
   "source": [
    "## Import functions\n",
    "\n",
    "from Functions.objectGenerationRiver_func import*\n",
    "from helpers.GlobalConstants import * \n",
    "from Functions.readImputParam import readProcessparam, microplasticData,readCompartmentData\n",
    "from Functions.dilutionVol_calculator_func import*\n",
    "from Functions.RC_estimation_function_v2_0 import*\n",
    "from Functions.reshape_RC_df_fun import*\n",
    "from Functions.fillInteractions_df_fun_v2_0 import*"
   ]
  },
  {
   "cell_type": "markdown",
   "metadata": {},
   "source": [
    "# Import input files"
   ]
  },
  {
   "cell_type": "code",
   "execution_count": 4,
   "metadata": {
    "ExecuteTime": {
     "end_time": "2022-07-11T12:35:36.818691Z",
     "start_time": "2022-07-11T12:35:36.707033Z"
    }
   },
   "outputs": [],
   "source": [
    "### Import imput files\n",
    "from pathlib import Path\n",
    "data_folder = Path(\"Inputs/\") \n",
    "\n",
    "process_df= readProcessparam (data_folder / \"process_paramRiver.txt\")\n",
    "MP_prop = microplasticData(data_folder /\"microplasticsSizeClassTests.txt\")\n",
    "compartments_prop = readCompartmentData(data_folder /\"compartmentsGenericRiverSec_prop.txt\")\n",
    "river_flows=pd.read_csv(data_folder /\"flow_connectivity.csv\")\n",
    "#Add river section depth field\n",
    "RSdepth = []\n",
    "for row in range(len(compartments_prop)):\n",
    "        RSdepth.append(round(sum(compartments_prop.depth_m[0:4]),2))\n",
    "compartments_prop[\"depthRS_m\"]=RSdepth"
   ]
  },
  {
   "cell_type": "markdown",
   "metadata": {},
   "source": [
    "# Model set up"
   ]
  },
  {
   "cell_type": "code",
   "execution_count": 5,
   "metadata": {
    "ExecuteTime": {
     "end_time": "2022-07-11T12:35:41.521821Z",
     "start_time": "2022-07-11T12:35:41.510846Z"
    }
   },
   "outputs": [],
   "source": [
    "#RIVER COMPARTMENTS\n",
    "compartments = [\"Surface Water\", \"Flowing Water\", \"Stagnant Water\", \"Sediment\"]\n",
    "riverComp = [\"1\", \"2\", \"3\", \"4\"]"
   ]
  },
  {
   "cell_type": "code",
   "execution_count": 6,
   "metadata": {
    "ExecuteTime": {
     "end_time": "2022-07-11T12:35:41.946590Z",
     "start_time": "2022-07-11T12:35:41.935619Z"
    }
   },
   "outputs": [],
   "source": [
    "#MICROPLASTICS FORMS \n",
    "MPforms = [\"A\", \"B\", \"C\", \"D\"]\n",
    "MPformslabels = [\"Free\", \"Heteroaggregated\", \"Biofiolm-covered\", \"Biofilm-heteroaggregated\"]"
   ]
  },
  {
   "cell_type": "code",
   "execution_count": 7,
   "metadata": {
    "ExecuteTime": {
     "end_time": "2022-07-11T12:35:42.351172Z",
     "start_time": "2022-07-11T12:35:42.337689Z"
    }
   },
   "outputs": [],
   "source": [
    "#SIZE BINS\n",
    "sizeBin =[\"a\", \"b\", \"c\", \"d\", \"e\"]\n",
    "sizeBinLabel = [\"0.1um\", \"1um\",\"10um\", \"100um\", \"1000um\"]# Detection limit for MPs via Fourier Transform Infrared Spectroscopy is 20um"
   ]
  },
  {
   "cell_type": "code",
   "execution_count": 8,
   "metadata": {
    "ExecuteTime": {
     "end_time": "2022-07-11T12:35:42.746256Z",
     "start_time": "2022-07-11T12:35:42.736315Z"
    }
   },
   "outputs": [],
   "source": [
    "#MPS RIVER PROCESSES (FATE AND TRANSPORT) LIST\n",
    "processList = [\"degradation\", \"fragmentation\", \"heteroagg\", \"breakup\", \"settling\",\"rising\", \"advection\", \"mixing\", \"biofilm\", \"resusp\", \"burial\",\"sedTransport\", \"defouling\"]"
   ]
  },
  {
   "cell_type": "code",
   "execution_count": 9,
   "metadata": {
    "ExecuteTime": {
     "end_time": "2022-07-11T12:35:43.218001Z",
     "start_time": "2022-07-11T12:35:43.206032Z"
    }
   },
   "outputs": [],
   "source": [
    "#RIVER SECTIONS\n",
    "numberRS=len (compartments_prop)/len(riverComp)\n",
    "listRS = [*range(0,int(numberRS),1)]\n",
    "riverSect = [str(item) for item in listRS]\n",
    "riverLengths = [str(it) for it in compartments_prop[\"length_m\"]]\n",
    "riverSectLength= riverLengths[0::4]\n",
    "RS_cumLength_m =[]\n",
    "for d in range(len(riverSectLength)):\n",
    "    if d==0:\n",
    "        RS_cumLength_m.append(float(riverSectLength[d]))\n",
    "    else:\n",
    "        RS_cumLength_m.append(float(riverSectLength[d])+float(RS_cumLength_m[d-1]))"
   ]
  },
  {
   "cell_type": "markdown",
   "metadata": {},
   "source": [
    "## Define run parameters\n",
    "- Solver (Dynamic). SteadyState under developement\n",
    "- mode (Standard). Monthly under developement\n",
    "- mode2 (Timelimit or raw): \"Timelimit\" mode sets up a time limit of 30min on the processes that exceeds that speed, while \"raw\" mode leaves the rate constant as calcualted. The raw version can straing the solver due to time.\n",
    "- record (True or False) : if \"True\" the results, RC and intercations dataframes will be recorded in the Results folder."
   ]
  },
  {
   "cell_type": "code",
   "execution_count": 10,
   "metadata": {
    "ExecuteTime": {
     "end_time": "2022-07-11T12:35:44.590284Z",
     "start_time": "2022-07-11T12:35:44.575322Z"
    }
   },
   "outputs": [],
   "source": [
    "SOLVER = \"Dynamic\" \n",
    "mode = \"Standard\" \n",
    "mode2 = \"Timelimit\" \n",
    "record = \"False\""
   ]
  },
  {
   "cell_type": "markdown",
   "metadata": {},
   "source": [
    "## Define scenario \n",
    "- composition: define MP composition to study. The composition is defined in the microplastics imput file microplasticsSizeClass.txt. Examples given in such file: PE, PA and PVC.\n",
    "- imputMP: Define imput location and wich MP form is emmited by indicating the river section number, river compartment number, MP aggregation state and size bin: ex. 02Ae (RS=0:1, comp= 2:flowing water, MPtype:A:FreeMP, sizeBin:e:1000um)\n",
    "- imputFlow: define number of particles per minute entering the system\n",
    "- imputPulse: define number of particles entering the systems in a pulse (if any)"
   ]
  },
  {
   "attachments": {
    "CodingFigure_FullMulti.png": {
     "image/png": "[encoded data removed]"
    }
   },
   "cell_type": "markdown",
   "metadata": {},
   "source": [
    "![CodingFigure_FullMulti.png](attachment:CodingFigure_FullMulti.png)"
   ]
  },
  {
   "cell_type": "code",
   "execution_count": 11,
   "metadata": {
    "ExecuteTime": {
     "end_time": "2022-07-11T12:35:46.595585Z",
     "start_time": "2022-07-11T12:35:46.588580Z"
    }
   },
   "outputs": [],
   "source": [
    "composition = \"PE\"\n",
    "imputMP= \"02Ae\"\n",
    "imputFlow=100 \n",
    "imputPulse=0"
   ]
  },
  {
   "cell_type": "markdown",
   "metadata": {},
   "source": [
    "## Set simulation time:\n",
    "- t0: starting time (seconds)\n",
    "- daysSimulation: total length of simulation (days)\n",
    "- stepSize (seconds)"
   ]
  },
  {
   "cell_type": "code",
   "execution_count": 12,
   "metadata": {
    "ExecuteTime": {
     "end_time": "2022-07-11T12:35:48.041017Z",
     "start_time": "2022-07-11T12:35:48.022033Z"
    }
   },
   "outputs": [],
   "source": [
    "t0 = 0 \n",
    "daysSimulation = 365\n",
    "tmax = 24*60*daysSimulation*60 \n",
    "sec_day = 24*60*60\n",
    "stepSize= 60*60*24 #time step of 1day\n",
    "timesteps = int(sec_day*daysSimulation/stepSize) \n",
    "t_span = np.linspace(0, tmax, int(timesteps)+1, dtype=int)"
   ]
  },
  {
   "cell_type": "markdown",
   "metadata": {},
   "source": [
    "## Define model run results file name"
   ]
  },
  {
   "cell_type": "code",
   "execution_count": 13,
   "metadata": {
    "ExecuteTime": {
     "end_time": "2022-07-11T12:35:49.555990Z",
     "start_time": "2022-07-11T12:35:49.541030Z"
    }
   },
   "outputs": [],
   "source": [
    "#Set up current date label#\n",
    "from datetime import datetime, timedelta\n",
    "date_time_str = '2020-01-01 00:00'\n",
    "DayStart = datetime.strptime(date_time_str, '%Y-%m-%d %H:%M')\n",
    "LastDay = DayStart + timedelta(seconds=tmax)\n",
    "date = DayStart\n",
    "daterun = date.today()\n",
    "daterun_label = daterun.strftime(\"%Y_%m_%d\")"
   ]
  },
  {
   "cell_type": "code",
   "execution_count": 14,
   "metadata": {
    "ExecuteTime": {
     "end_time": "2022-07-11T12:35:50.240837Z",
     "start_time": "2022-07-11T12:35:50.225919Z"
    }
   },
   "outputs": [
    {
     "data": {
      "text/plain": [
       "'2023_11_29_GenericRiver_PE_inflow_02Ae_100part_s_Timelimit_TestRun_v2_0'"
      ]
     },
     "execution_count": 14,
     "metadata": {},
     "output_type": "execute_result"
    }
   ],
   "source": [
    "if imputFlow !=0:\n",
    "    runtitle= daterun_label+ \"_GenericRiver_\" + composition +\"_inflow_\"+ imputMP+\"_\"+str(imputFlow)+\"part_s_\"+ mode2+\"_TestRun_v2_0\"\n",
    "else:\n",
    "    runtitle= daterun_label+\"_GenericRiver_\" + composition +\"_pulse_\"+ imputMP+\"_\"+str(imputPulse)+\"part_\"+ mode2+\"_TestRun_v2_0\"\n",
    "runtitle"
   ]
  },
  {
   "cell_type": "markdown",
   "metadata": {},
   "source": [
    "## Create results and figures folders (to be updated for working with Binder)"
   ]
  },
  {
   "cell_type": "code",
   "execution_count": 15,
   "metadata": {
    "ExecuteTime": {
     "end_time": "2022-07-11T12:40:28.433856Z",
     "start_time": "2022-07-11T12:40:28.416905Z"
    }
   },
   "outputs": [],
   "source": [
    "##Set current working directory\n",
    "cwd=os.getcwd()"
   ]
  },
  {
   "cell_type": "code",
   "execution_count": 16,
   "metadata": {
    "ExecuteTime": {
     "end_time": "2022-07-11T12:39:07.481618Z",
     "start_time": "2022-07-11T12:39:07.458689Z"
    }
   },
   "outputs": [
    {
     "name": "stdout",
     "output_type": "stream",
     "text": [
      "2023_11_29 folder already exists.\n",
      "/HeatMaps folder already exists.\n"
     ]
    }
   ],
   "source": [
    "os.chdir(cwd+\"/Comparações\")\n",
    "    \n",
    "#create folder for the day if it doesnt already exists\n",
    "\n",
    "path = cwd+\"/Comparações\"\n",
    "os.path.isdir(path)\n",
    "old_path = (daterun_label)\n",
    "new_path = os.path.isdir(old_path)\n",
    "if not new_path:\n",
    "    os.makedirs(old_path)\n",
    "    print(\"Created Folder : \", old_path)\n",
    "else:\n",
    "    print(old_path, \"folder already exists.\")\n",
    "\n",
    "results_path= cwd+\"/Comparações/\"+old_path\n",
    "\n",
    "os.chdir(results_path)\n",
    "\n",
    "Fig_folder= \"/HeatMaps\"\n",
    "os.path.isdir(results_path+Fig_folder)\n",
    "\n",
    "new_path = os.path.isdir(results_path+Fig_folder)\n",
    "if not new_path:\n",
    "    os.mkdir(\"HeatMaps\")\n",
    "    print(\"Created Folder : \", Fig_folder)\n",
    "else:\n",
    "    print(Fig_folder, \"folder already exists.\")\n",
    "\n",
    "results_figures_path= results_path+Fig_folder"
   ]
  },
  {
   "cell_type": "markdown",
   "metadata": {},
   "source": [
    "## Generate list of species (combination of river section-compartment-MPform-sizeFraction)"
   ]
  },
  {
   "cell_type": "code",
   "execution_count": 17,
   "metadata": {
    "ExecuteTime": {
     "end_time": "2022-07-11T12:40:34.763702Z",
     "start_time": "2022-07-11T12:40:34.745719Z"
    }
   },
   "outputs": [],
   "source": [
    "#Generate COMBINATIONS\n",
    "combinations = list(itertools.product(riverSect,riverComp,MPforms,sizeBin))\n",
    "#Generate raw list of combinations and lists of concentrations (C) and inflows (I)\n",
    "CombList = []\n",
    "Ilist = []\n",
    "Clist =[]\n",
    "def convertTuple(tup): \n",
    "    str =  ''.join(tup) \n",
    "    return str\n",
    "for e in combinations:\n",
    "    Clist.append(\"C_\" + convertTuple(e))\n",
    "    Ilist.append(\"I_\" + convertTuple(e))\n",
    "    CombList.append(convertTuple(e))"
   ]
  },
  {
   "cell_type": "markdown",
   "metadata": {},
   "source": [
    "# Model Run\n",
    "\n",
    "## -Estimate Rate constants"
   ]
  },
  {
   "cell_type": "code",
   "execution_count": 18,
   "metadata": {
    "ExecuteTime": {
     "end_time": "2022-07-11T12:40:47.727357Z",
     "start_time": "2022-07-11T12:40:37.209908Z"
    }
   },
   "outputs": [
    {
     "name": "stdout",
     "output_type": "stream",
     "text": [
      "10 or more RS but less than 100\n"
     ]
    }
   ],
   "source": [
    "#RC_df_st, settling_st, rising_st=RC_estimation_function_v2_0(processList,CombList,Clist,MP_prop,compartments_prop,process_df,numberRS,\n",
    "#                                     composition,mode2, mode, date,riverComp,MPforms,sizeBin,river_flows,'Stokes','calculated')\n",
    "#RC_df_dc, settling_dc, rising_dc=RC_estimation_function_v2_0(processList,CombList,Clist,MP_prop,compartments_prop,process_df,numberRS,\n",
    "#                                     composition,mode2, mode, date,riverComp,MPforms,sizeBin,river_flows,'Drag_coeficient','calculated')\n",
    "RC_df_dc, settling_dc, rising_dc=RC_estimation_function_v2_0(processList,CombList,Clist,MP_prop,compartments_prop,process_df,numberRS,\n",
    "                                     composition,mode2, mode, date,riverComp,MPforms,sizeBin,river_flows,'dc_iteration','calculated')\n",
    "#RC_df_dc_70=RC_estimation_function_v2_0(processList,CombList,Clist,MP_prop,compartments_prop,process_df,numberRS,\n",
    "#                                    composition,mode2, mode, date,riverComp,MPforms,sizeBin,river_flows,'Drag_coeficient',0.7)\n",
    "#RC_df_dc_80=RC_estimation_function_v2_0(processList,CombList,Clist,MP_prop,compartments_prop,process_df,numberRS,\n",
    "#                                    composition,mode2, mode, date,riverComp,MPforms,sizeBin,river_flows,'Drag_coeficient',0.8)\n",
    "#RC_df_dc_90=RC_estimation_function_v2_0(processList,CombList,Clist,MP_prop,compartments_prop,process_df,numberRS,\n",
    "#                                     composition,mode2, mode, date,riverComp,MPforms,sizeBin,river_flows,'Drag_coeficient',0.9)\n",
    "#RC_df_dc_100=RC_estimation_function_v2_0(processList,CombList,Clist,MP_prop,compartments_prop,process_df,numberRS,\n",
    "#                                     composition,mode2, mode, date,riverComp,MPforms,sizeBin,river_flows,'Drag_coeficient',1)"
   ]
  },
  {
   "cell_type": "code",
   "execution_count": null,
   "metadata": {
    "tags": []
   },
   "outputs": [],
   "source": [
    "def media(lista):\n",
    "    media = sum(lista)/len(lista)\n",
    "    return media"
   ]
  },
  {
   "cell_type": "code",
   "execution_count": null,
   "metadata": {
    "tags": []
   },
   "outputs": [],
   "source": [
    "print(media(rising_st), media(rising_dc), media(settling_st), media(settling_dc))"
   ]
  },
  {
   "cell_type": "code",
   "execution_count": null,
   "metadata": {
    "tags": []
   },
   "outputs": [],
   "source": [
    "dif = []\n",
    "for i in range(len(settling_dc)):\n",
    "    dif.append(settling_st[i]-settling_dc[i])\n",
    "print(dif)\n",
    "               "
   ]
  },
  {
   "cell_type": "code",
   "execution_count": 19,
   "metadata": {},
   "outputs": [
    {
     "data": {
      "text/plain": [
       "1"
      ]
     },
     "execution_count": 19,
     "metadata": {},
     "output_type": "execute_result"
    }
   ],
   "source": [
    "list_df = [RC_df_dc]\n",
    "list_names = [\"Drag Coeficient Iterativo\"]\n",
    "len(list_df)"
   ]
  },
  {
   "cell_type": "code",
   "execution_count": 21,
   "metadata": {},
   "outputs": [
    {
     "data": {
      "text/html": [
       "<div>\n",
       "<style scoped>\n",
       "    .dataframe tbody tr th:only-of-type {\n",
       "        vertical-align: middle;\n",
       "    }\n",
       "\n",
       "    .dataframe tbody tr th {\n",
       "        vertical-align: top;\n",
       "    }\n",
       "\n",
       "    .dataframe thead th {\n",
       "        text-align: right;\n",
       "    }\n",
       "</style>\n",
       "<table border=\"1\" class=\"dataframe\">\n",
       "  <thead>\n",
       "    <tr style=\"text-align: right;\">\n",
       "      <th></th>\n",
       "      <th>01Aa</th>\n",
       "      <th>01Ab</th>\n",
       "      <th>01Ac</th>\n",
       "      <th>01Ad</th>\n",
       "      <th>01Ae</th>\n",
       "      <th>01Ba</th>\n",
       "      <th>01Bb</th>\n",
       "      <th>01Bc</th>\n",
       "      <th>01Bd</th>\n",
       "      <th>01Be</th>\n",
       "      <th>...</th>\n",
       "      <th>194Ca</th>\n",
       "      <th>194Cb</th>\n",
       "      <th>194Cc</th>\n",
       "      <th>194Cd</th>\n",
       "      <th>194Ce</th>\n",
       "      <th>194Da</th>\n",
       "      <th>194Db</th>\n",
       "      <th>194Dc</th>\n",
       "      <th>194Dd</th>\n",
       "      <th>194De</th>\n",
       "    </tr>\n",
       "  </thead>\n",
       "  <tbody>\n",
       "    <tr>\n",
       "      <th>degradation</th>\n",
       "      <td>0.0</td>\n",
       "      <td>0.0</td>\n",
       "      <td>0.0</td>\n",
       "      <td>0.0</td>\n",
       "      <td>0.0</td>\n",
       "      <td>0.0</td>\n",
       "      <td>0.0</td>\n",
       "      <td>0.0</td>\n",
       "      <td>0.0</td>\n",
       "      <td>0.0</td>\n",
       "      <td>...</td>\n",
       "      <td>0.0</td>\n",
       "      <td>0.0</td>\n",
       "      <td>0.0</td>\n",
       "      <td>0.0</td>\n",
       "      <td>0.0</td>\n",
       "      <td>0.0</td>\n",
       "      <td>0.0</td>\n",
       "      <td>0.0</td>\n",
       "      <td>0.0</td>\n",
       "      <td>0.0</td>\n",
       "    </tr>\n",
       "    <tr>\n",
       "      <th>fragmentation</th>\n",
       "      <td>0.0</td>\n",
       "      <td>(3.170979198376459e-10, 1909.8593171027442)</td>\n",
       "      <td>(3.1709791983764586e-09, 1909.8593171027437)</td>\n",
       "      <td>(3.170979198376459e-08, 1909.8593171027444)</td>\n",
       "      <td>(3.170979198376459e-07, 1909.8593171027442)</td>\n",
       "      <td>0</td>\n",
       "      <td>(0, 0)</td>\n",
       "      <td>(0, 0)</td>\n",
       "      <td>(0, 0)</td>\n",
       "      <td>(0, 0)</td>\n",
       "      <td>...</td>\n",
       "      <td>0.0</td>\n",
       "      <td>(1.5854895991882293e-11, 1909.8593171027442)</td>\n",
       "      <td>(1.5854895991882296e-10, 1909.8593171027437)</td>\n",
       "      <td>(1.5854895991882293e-09, 1909.8593171027444)</td>\n",
       "      <td>(1.5854895991882293e-08, 1909.8593171027442)</td>\n",
       "      <td>0.0</td>\n",
       "      <td>(0, 0)</td>\n",
       "      <td>(0, 0)</td>\n",
       "      <td>(0, 0)</td>\n",
       "      <td>(0, 0)</td>\n",
       "    </tr>\n",
       "    <tr>\n",
       "      <th>heteroagg</th>\n",
       "      <td>0.000046</td>\n",
       "      <td>0.000041</td>\n",
       "      <td>0.000556</td>\n",
       "      <td>0.000556</td>\n",
       "      <td>0.000556</td>\n",
       "      <td>0</td>\n",
       "      <td>0</td>\n",
       "      <td>0</td>\n",
       "      <td>0</td>\n",
       "      <td>0</td>\n",
       "      <td>...</td>\n",
       "      <td>0.0</td>\n",
       "      <td>0</td>\n",
       "      <td>0</td>\n",
       "      <td>0</td>\n",
       "      <td>0</td>\n",
       "      <td>0.0</td>\n",
       "      <td>0</td>\n",
       "      <td>0</td>\n",
       "      <td>0</td>\n",
       "      <td>0</td>\n",
       "    </tr>\n",
       "    <tr>\n",
       "      <th>breakup</th>\n",
       "      <td>0</td>\n",
       "      <td>0</td>\n",
       "      <td>0</td>\n",
       "      <td>0</td>\n",
       "      <td>0</td>\n",
       "      <td>0.000003</td>\n",
       "      <td>0.000005</td>\n",
       "      <td>0.000056</td>\n",
       "      <td>0.000056</td>\n",
       "      <td>0.000056</td>\n",
       "      <td>...</td>\n",
       "      <td>0.0</td>\n",
       "      <td>0</td>\n",
       "      <td>0</td>\n",
       "      <td>0</td>\n",
       "      <td>0</td>\n",
       "      <td>0.0</td>\n",
       "      <td>0</td>\n",
       "      <td>0</td>\n",
       "      <td>0</td>\n",
       "      <td>0</td>\n",
       "    </tr>\n",
       "    <tr>\n",
       "      <th>settling</th>\n",
       "      <td>0</td>\n",
       "      <td>0</td>\n",
       "      <td>0</td>\n",
       "      <td>0</td>\n",
       "      <td>0</td>\n",
       "      <td>0.000556</td>\n",
       "      <td>0.000556</td>\n",
       "      <td>0</td>\n",
       "      <td>0</td>\n",
       "      <td>0</td>\n",
       "      <td>...</td>\n",
       "      <td>0.0</td>\n",
       "      <td>0</td>\n",
       "      <td>0</td>\n",
       "      <td>0</td>\n",
       "      <td>0</td>\n",
       "      <td>0.0</td>\n",
       "      <td>0</td>\n",
       "      <td>0</td>\n",
       "      <td>0</td>\n",
       "      <td>0</td>\n",
       "    </tr>\n",
       "  </tbody>\n",
       "</table>\n",
       "<p>5 rows × 1600 columns</p>\n",
       "</div>"
      ],
      "text/plain": [
       "                   01Aa                                         01Ab  \\\n",
       "degradation         0.0                                          0.0   \n",
       "fragmentation       0.0  (3.170979198376459e-10, 1909.8593171027442)   \n",
       "heteroagg      0.000046                                     0.000041   \n",
       "breakup               0                                            0   \n",
       "settling              0                                            0   \n",
       "\n",
       "                                                       01Ac  \\\n",
       "degradation                                             0.0   \n",
       "fragmentation  (3.1709791983764586e-09, 1909.8593171027437)   \n",
       "heteroagg                                          0.000556   \n",
       "breakup                                                   0   \n",
       "settling                                                  0   \n",
       "\n",
       "                                                      01Ad  \\\n",
       "degradation                                            0.0   \n",
       "fragmentation  (3.170979198376459e-08, 1909.8593171027444)   \n",
       "heteroagg                                         0.000556   \n",
       "breakup                                                  0   \n",
       "settling                                                 0   \n",
       "\n",
       "                                                      01Ae      01Ba  \\\n",
       "degradation                                            0.0       0.0   \n",
       "fragmentation  (3.170979198376459e-07, 1909.8593171027442)         0   \n",
       "heteroagg                                         0.000556         0   \n",
       "breakup                                                  0  0.000003   \n",
       "settling                                                 0  0.000556   \n",
       "\n",
       "                   01Bb      01Bc      01Bd      01Be  ... 194Ca  \\\n",
       "degradation         0.0       0.0       0.0       0.0  ...   0.0   \n",
       "fragmentation    (0, 0)    (0, 0)    (0, 0)    (0, 0)  ...   0.0   \n",
       "heteroagg             0         0         0         0  ...   0.0   \n",
       "breakup        0.000005  0.000056  0.000056  0.000056  ...   0.0   \n",
       "settling       0.000556         0         0         0  ...   0.0   \n",
       "\n",
       "                                                      194Cb  \\\n",
       "degradation                                             0.0   \n",
       "fragmentation  (1.5854895991882293e-11, 1909.8593171027442)   \n",
       "heteroagg                                                 0   \n",
       "breakup                                                   0   \n",
       "settling                                                  0   \n",
       "\n",
       "                                                      194Cc  \\\n",
       "degradation                                             0.0   \n",
       "fragmentation  (1.5854895991882296e-10, 1909.8593171027437)   \n",
       "heteroagg                                                 0   \n",
       "breakup                                                   0   \n",
       "settling                                                  0   \n",
       "\n",
       "                                                      194Cd  \\\n",
       "degradation                                             0.0   \n",
       "fragmentation  (1.5854895991882293e-09, 1909.8593171027444)   \n",
       "heteroagg                                                 0   \n",
       "breakup                                                   0   \n",
       "settling                                                  0   \n",
       "\n",
       "                                                      194Ce 194Da   194Db  \\\n",
       "degradation                                             0.0   0.0     0.0   \n",
       "fragmentation  (1.5854895991882293e-08, 1909.8593171027442)   0.0  (0, 0)   \n",
       "heteroagg                                                 0   0.0       0   \n",
       "breakup                                                   0   0.0       0   \n",
       "settling                                                  0   0.0       0   \n",
       "\n",
       "                194Dc   194Dd   194De  \n",
       "degradation       0.0     0.0     0.0  \n",
       "fragmentation  (0, 0)  (0, 0)  (0, 0)  \n",
       "heteroagg           0       0       0  \n",
       "breakup             0       0       0  \n",
       "settling            0       0       0  \n",
       "\n",
       "[5 rows x 1600 columns]"
      ]
     },
     "execution_count": 21,
     "metadata": {},
     "output_type": "execute_result"
    }
   ],
   "source": [
    "list_df[0].head()"
   ]
  },
  {
   "cell_type": "code",
   "execution_count": 22,
   "metadata": {},
   "outputs": [],
   "source": [
    "list_df_tidy = []\n",
    "list_df_final = []\n",
    "for i in range(len(list_df)):\n",
    "    list_df_tidy.append(reshape_RC_df(list_df[i],CombList))\n",
    "    list_df_final.append(list_df_tidy[i].pivot_table(index=[\"Compartment\", \"MP_form\", \"SizeFrac\"],columns='Process', values='k_s-1'))\n",
    "    list_df_final[i]"
   ]
  },
  {
   "cell_type": "code",
   "execution_count": 23,
   "metadata": {},
   "outputs": [
    {
     "data": {
      "text/html": [
       "<div>\n",
       "<style scoped>\n",
       "    .dataframe tbody tr th:only-of-type {\n",
       "        vertical-align: middle;\n",
       "    }\n",
       "\n",
       "    .dataframe tbody tr th {\n",
       "        vertical-align: top;\n",
       "    }\n",
       "\n",
       "    .dataframe thead th {\n",
       "        text-align: right;\n",
       "    }\n",
       "</style>\n",
       "<table border=\"1\" class=\"dataframe\">\n",
       "  <thead>\n",
       "    <tr style=\"text-align: right;\">\n",
       "      <th></th>\n",
       "      <th></th>\n",
       "      <th>Process</th>\n",
       "      <th>advection</th>\n",
       "      <th>biofilm</th>\n",
       "      <th>breakup</th>\n",
       "      <th>burial</th>\n",
       "      <th>defouling</th>\n",
       "      <th>degradation</th>\n",
       "      <th>fragmentation</th>\n",
       "      <th>heteroagg</th>\n",
       "      <th>mixing</th>\n",
       "      <th>resusp</th>\n",
       "      <th>rising</th>\n",
       "      <th>sedTransport</th>\n",
       "      <th>settling</th>\n",
       "    </tr>\n",
       "    <tr>\n",
       "      <th>Compartment</th>\n",
       "      <th>MP_form</th>\n",
       "      <th>SizeFrac</th>\n",
       "      <th></th>\n",
       "      <th></th>\n",
       "      <th></th>\n",
       "      <th></th>\n",
       "      <th></th>\n",
       "      <th></th>\n",
       "      <th></th>\n",
       "      <th></th>\n",
       "      <th></th>\n",
       "      <th></th>\n",
       "      <th></th>\n",
       "      <th></th>\n",
       "      <th></th>\n",
       "    </tr>\n",
       "  </thead>\n",
       "  <tbody>\n",
       "    <tr>\n",
       "      <th rowspan=\"5\" valign=\"top\">Flowing Water</th>\n",
       "      <th rowspan=\"5\" valign=\"top\">Biof&amp;Heteroagg</th>\n",
       "      <th>0.1 um</th>\n",
       "      <td>0.000026</td>\n",
       "      <td>0.000000</td>\n",
       "      <td>0.000056</td>\n",
       "      <td>0.0</td>\n",
       "      <td>0.0</td>\n",
       "      <td>8.022537e-11</td>\n",
       "      <td>0.000000e+00</td>\n",
       "      <td>0.000000</td>\n",
       "      <td>1.000000e-10</td>\n",
       "      <td>0.0</td>\n",
       "      <td>0.000000</td>\n",
       "      <td>0.0</td>\n",
       "      <td>0.000556</td>\n",
       "    </tr>\n",
       "    <tr>\n",
       "      <th>1 um</th>\n",
       "      <td>0.000026</td>\n",
       "      <td>0.000000</td>\n",
       "      <td>0.000056</td>\n",
       "      <td>0.0</td>\n",
       "      <td>0.0</td>\n",
       "      <td>8.022537e-11</td>\n",
       "      <td>0.000000e+00</td>\n",
       "      <td>0.000000</td>\n",
       "      <td>1.000000e-10</td>\n",
       "      <td>0.0</td>\n",
       "      <td>0.000000</td>\n",
       "      <td>0.0</td>\n",
       "      <td>0.000556</td>\n",
       "    </tr>\n",
       "    <tr>\n",
       "      <th>10 um</th>\n",
       "      <td>0.000026</td>\n",
       "      <td>0.000000</td>\n",
       "      <td>0.000056</td>\n",
       "      <td>0.0</td>\n",
       "      <td>0.0</td>\n",
       "      <td>8.022537e-11</td>\n",
       "      <td>0.000000e+00</td>\n",
       "      <td>0.000000</td>\n",
       "      <td>1.000000e-10</td>\n",
       "      <td>0.0</td>\n",
       "      <td>0.000000</td>\n",
       "      <td>0.0</td>\n",
       "      <td>0.000556</td>\n",
       "    </tr>\n",
       "    <tr>\n",
       "      <th>100 um</th>\n",
       "      <td>0.000026</td>\n",
       "      <td>0.000000</td>\n",
       "      <td>0.000056</td>\n",
       "      <td>0.0</td>\n",
       "      <td>0.0</td>\n",
       "      <td>8.022537e-11</td>\n",
       "      <td>0.000000e+00</td>\n",
       "      <td>0.000000</td>\n",
       "      <td>1.000000e-10</td>\n",
       "      <td>0.0</td>\n",
       "      <td>0.000000</td>\n",
       "      <td>0.0</td>\n",
       "      <td>0.000556</td>\n",
       "    </tr>\n",
       "    <tr>\n",
       "      <th>1000 um</th>\n",
       "      <td>0.000026</td>\n",
       "      <td>0.000000</td>\n",
       "      <td>0.000056</td>\n",
       "      <td>0.0</td>\n",
       "      <td>0.0</td>\n",
       "      <td>8.022537e-11</td>\n",
       "      <td>0.000000e+00</td>\n",
       "      <td>0.000000</td>\n",
       "      <td>1.000000e-10</td>\n",
       "      <td>0.0</td>\n",
       "      <td>0.000556</td>\n",
       "      <td>0.0</td>\n",
       "      <td>0.000000</td>\n",
       "    </tr>\n",
       "    <tr>\n",
       "      <th>...</th>\n",
       "      <th>...</th>\n",
       "      <th>...</th>\n",
       "      <td>...</td>\n",
       "      <td>...</td>\n",
       "      <td>...</td>\n",
       "      <td>...</td>\n",
       "      <td>...</td>\n",
       "      <td>...</td>\n",
       "      <td>...</td>\n",
       "      <td>...</td>\n",
       "      <td>...</td>\n",
       "      <td>...</td>\n",
       "      <td>...</td>\n",
       "      <td>...</td>\n",
       "      <td>...</td>\n",
       "    </tr>\n",
       "    <tr>\n",
       "      <th rowspan=\"5\" valign=\"top\">Surface Water</th>\n",
       "      <th rowspan=\"5\" valign=\"top\">Pristine</th>\n",
       "      <th>0.1 um</th>\n",
       "      <td>0.000026</td>\n",
       "      <td>0.000001</td>\n",
       "      <td>0.000000</td>\n",
       "      <td>0.0</td>\n",
       "      <td>0.0</td>\n",
       "      <td>1.604507e-09</td>\n",
       "      <td>3.170979e-11</td>\n",
       "      <td>0.000046</td>\n",
       "      <td>4.900000e-09</td>\n",
       "      <td>0.0</td>\n",
       "      <td>0.000000</td>\n",
       "      <td>0.0</td>\n",
       "      <td>0.000000</td>\n",
       "    </tr>\n",
       "    <tr>\n",
       "      <th>1 um</th>\n",
       "      <td>0.000026</td>\n",
       "      <td>0.000001</td>\n",
       "      <td>0.000000</td>\n",
       "      <td>0.0</td>\n",
       "      <td>0.0</td>\n",
       "      <td>1.604507e-09</td>\n",
       "      <td>3.170979e-10</td>\n",
       "      <td>0.000041</td>\n",
       "      <td>4.900000e-09</td>\n",
       "      <td>0.0</td>\n",
       "      <td>0.000000</td>\n",
       "      <td>0.0</td>\n",
       "      <td>0.000000</td>\n",
       "    </tr>\n",
       "    <tr>\n",
       "      <th>10 um</th>\n",
       "      <td>0.000026</td>\n",
       "      <td>0.000001</td>\n",
       "      <td>0.000000</td>\n",
       "      <td>0.0</td>\n",
       "      <td>0.0</td>\n",
       "      <td>1.604507e-09</td>\n",
       "      <td>3.170979e-09</td>\n",
       "      <td>0.000556</td>\n",
       "      <td>4.900000e-09</td>\n",
       "      <td>0.0</td>\n",
       "      <td>0.000000</td>\n",
       "      <td>0.0</td>\n",
       "      <td>0.000000</td>\n",
       "    </tr>\n",
       "    <tr>\n",
       "      <th>100 um</th>\n",
       "      <td>0.000026</td>\n",
       "      <td>0.000001</td>\n",
       "      <td>0.000000</td>\n",
       "      <td>0.0</td>\n",
       "      <td>0.0</td>\n",
       "      <td>1.604507e-09</td>\n",
       "      <td>3.170979e-08</td>\n",
       "      <td>0.000556</td>\n",
       "      <td>4.900000e-09</td>\n",
       "      <td>0.0</td>\n",
       "      <td>0.000000</td>\n",
       "      <td>0.0</td>\n",
       "      <td>0.000000</td>\n",
       "    </tr>\n",
       "    <tr>\n",
       "      <th>1000 um</th>\n",
       "      <td>0.000026</td>\n",
       "      <td>0.000001</td>\n",
       "      <td>0.000000</td>\n",
       "      <td>0.0</td>\n",
       "      <td>0.0</td>\n",
       "      <td>1.604507e-09</td>\n",
       "      <td>3.170979e-07</td>\n",
       "      <td>0.000556</td>\n",
       "      <td>4.900000e-09</td>\n",
       "      <td>0.0</td>\n",
       "      <td>0.000000</td>\n",
       "      <td>0.0</td>\n",
       "      <td>0.000000</td>\n",
       "    </tr>\n",
       "  </tbody>\n",
       "</table>\n",
       "<p>80 rows × 13 columns</p>\n",
       "</div>"
      ],
      "text/plain": [
       "Process                                advection   biofilm   breakup  burial  \\\n",
       "Compartment   MP_form        SizeFrac                                          \n",
       "Flowing Water Biof&Heteroagg 0.1 um     0.000026  0.000000  0.000056     0.0   \n",
       "                             1 um       0.000026  0.000000  0.000056     0.0   \n",
       "                             10 um      0.000026  0.000000  0.000056     0.0   \n",
       "                             100 um     0.000026  0.000000  0.000056     0.0   \n",
       "                             1000 um    0.000026  0.000000  0.000056     0.0   \n",
       "...                                          ...       ...       ...     ...   \n",
       "Surface Water Pristine       0.1 um     0.000026  0.000001  0.000000     0.0   \n",
       "                             1 um       0.000026  0.000001  0.000000     0.0   \n",
       "                             10 um      0.000026  0.000001  0.000000     0.0   \n",
       "                             100 um     0.000026  0.000001  0.000000     0.0   \n",
       "                             1000 um    0.000026  0.000001  0.000000     0.0   \n",
       "\n",
       "Process                                defouling   degradation  fragmentation  \\\n",
       "Compartment   MP_form        SizeFrac                                           \n",
       "Flowing Water Biof&Heteroagg 0.1 um          0.0  8.022537e-11   0.000000e+00   \n",
       "                             1 um            0.0  8.022537e-11   0.000000e+00   \n",
       "                             10 um           0.0  8.022537e-11   0.000000e+00   \n",
       "                             100 um          0.0  8.022537e-11   0.000000e+00   \n",
       "                             1000 um         0.0  8.022537e-11   0.000000e+00   \n",
       "...                                          ...           ...            ...   \n",
       "Surface Water Pristine       0.1 um          0.0  1.604507e-09   3.170979e-11   \n",
       "                             1 um            0.0  1.604507e-09   3.170979e-10   \n",
       "                             10 um           0.0  1.604507e-09   3.170979e-09   \n",
       "                             100 um          0.0  1.604507e-09   3.170979e-08   \n",
       "                             1000 um         0.0  1.604507e-09   3.170979e-07   \n",
       "\n",
       "Process                                heteroagg        mixing  resusp  \\\n",
       "Compartment   MP_form        SizeFrac                                    \n",
       "Flowing Water Biof&Heteroagg 0.1 um     0.000000  1.000000e-10     0.0   \n",
       "                             1 um       0.000000  1.000000e-10     0.0   \n",
       "                             10 um      0.000000  1.000000e-10     0.0   \n",
       "                             100 um     0.000000  1.000000e-10     0.0   \n",
       "                             1000 um    0.000000  1.000000e-10     0.0   \n",
       "...                                          ...           ...     ...   \n",
       "Surface Water Pristine       0.1 um     0.000046  4.900000e-09     0.0   \n",
       "                             1 um       0.000041  4.900000e-09     0.0   \n",
       "                             10 um      0.000556  4.900000e-09     0.0   \n",
       "                             100 um     0.000556  4.900000e-09     0.0   \n",
       "                             1000 um    0.000556  4.900000e-09     0.0   \n",
       "\n",
       "Process                                  rising  sedTransport  settling  \n",
       "Compartment   MP_form        SizeFrac                                    \n",
       "Flowing Water Biof&Heteroagg 0.1 um    0.000000           0.0  0.000556  \n",
       "                             1 um      0.000000           0.0  0.000556  \n",
       "                             10 um     0.000000           0.0  0.000556  \n",
       "                             100 um    0.000000           0.0  0.000556  \n",
       "                             1000 um   0.000556           0.0  0.000000  \n",
       "...                                         ...           ...       ...  \n",
       "Surface Water Pristine       0.1 um    0.000000           0.0  0.000000  \n",
       "                             1 um      0.000000           0.0  0.000000  \n",
       "                             10 um     0.000000           0.0  0.000000  \n",
       "                             100 um    0.000000           0.0  0.000000  \n",
       "                             1000 um   0.000000           0.0  0.000000  \n",
       "\n",
       "[80 rows x 13 columns]"
      ]
     },
     "execution_count": 23,
     "metadata": {},
     "output_type": "execute_result"
    }
   ],
   "source": [
    "list_df_final[0]"
   ]
  },
  {
   "cell_type": "markdown",
   "metadata": {},
   "source": [
    "### Table of Half life times (hours)"
   ]
  },
  {
   "cell_type": "code",
   "execution_count": 24,
   "metadata": {},
   "outputs": [],
   "source": [
    "Half_life_list = []\n",
    "for i in range(len(list_df_tidy)):\n",
    "    Half_life_list.append(list_df_tidy[i].pivot_table(index=[\"Compartment\", \"MP_form\", \"SizeFrac\"], \n",
    "                    columns='Process', \n",
    "                    values='t1/2_h'))"
   ]
  },
  {
   "cell_type": "code",
   "execution_count": 25,
   "metadata": {},
   "outputs": [
    {
     "data": {
      "text/html": [
       "<div>\n",
       "<style scoped>\n",
       "    .dataframe tbody tr th:only-of-type {\n",
       "        vertical-align: middle;\n",
       "    }\n",
       "\n",
       "    .dataframe tbody tr th {\n",
       "        vertical-align: top;\n",
       "    }\n",
       "\n",
       "    .dataframe thead th {\n",
       "        text-align: right;\n",
       "    }\n",
       "</style>\n",
       "<table border=\"1\" class=\"dataframe\">\n",
       "  <thead>\n",
       "    <tr style=\"text-align: right;\">\n",
       "      <th></th>\n",
       "      <th></th>\n",
       "      <th>Process</th>\n",
       "      <th>advection</th>\n",
       "      <th>biofilm</th>\n",
       "      <th>breakup</th>\n",
       "      <th>burial</th>\n",
       "      <th>defouling</th>\n",
       "      <th>degradation</th>\n",
       "      <th>fragmentation</th>\n",
       "      <th>heteroagg</th>\n",
       "      <th>mixing</th>\n",
       "      <th>resusp</th>\n",
       "      <th>rising</th>\n",
       "      <th>sedTransport</th>\n",
       "      <th>settling</th>\n",
       "    </tr>\n",
       "    <tr>\n",
       "      <th>Compartment</th>\n",
       "      <th>MP_form</th>\n",
       "      <th>SizeFrac</th>\n",
       "      <th></th>\n",
       "      <th></th>\n",
       "      <th></th>\n",
       "      <th></th>\n",
       "      <th></th>\n",
       "      <th></th>\n",
       "      <th></th>\n",
       "      <th></th>\n",
       "      <th></th>\n",
       "      <th></th>\n",
       "      <th></th>\n",
       "      <th></th>\n",
       "      <th></th>\n",
       "    </tr>\n",
       "  </thead>\n",
       "  <tbody>\n",
       "    <tr>\n",
       "      <th rowspan=\"5\" valign=\"top\">Flowing Water</th>\n",
       "      <th rowspan=\"5\" valign=\"top\">Biof&amp;Heteroagg</th>\n",
       "      <th>0.1 um</th>\n",
       "      <td>7.41</td>\n",
       "      <td>0.00</td>\n",
       "      <td>3.46</td>\n",
       "      <td>0.0</td>\n",
       "      <td>0.0</td>\n",
       "      <td>2400000.0</td>\n",
       "      <td>0.00</td>\n",
       "      <td>0.00</td>\n",
       "      <td>1925408.83</td>\n",
       "      <td>0.0</td>\n",
       "      <td>0.00</td>\n",
       "      <td>0.0</td>\n",
       "      <td>0.35</td>\n",
       "    </tr>\n",
       "    <tr>\n",
       "      <th>1 um</th>\n",
       "      <td>7.41</td>\n",
       "      <td>0.00</td>\n",
       "      <td>3.46</td>\n",
       "      <td>0.0</td>\n",
       "      <td>0.0</td>\n",
       "      <td>2400000.0</td>\n",
       "      <td>0.00</td>\n",
       "      <td>0.00</td>\n",
       "      <td>1925408.83</td>\n",
       "      <td>0.0</td>\n",
       "      <td>0.00</td>\n",
       "      <td>0.0</td>\n",
       "      <td>0.35</td>\n",
       "    </tr>\n",
       "    <tr>\n",
       "      <th>10 um</th>\n",
       "      <td>7.41</td>\n",
       "      <td>0.00</td>\n",
       "      <td>3.46</td>\n",
       "      <td>0.0</td>\n",
       "      <td>0.0</td>\n",
       "      <td>2400000.0</td>\n",
       "      <td>0.00</td>\n",
       "      <td>0.00</td>\n",
       "      <td>1925408.83</td>\n",
       "      <td>0.0</td>\n",
       "      <td>0.00</td>\n",
       "      <td>0.0</td>\n",
       "      <td>0.35</td>\n",
       "    </tr>\n",
       "    <tr>\n",
       "      <th>100 um</th>\n",
       "      <td>7.41</td>\n",
       "      <td>0.00</td>\n",
       "      <td>3.46</td>\n",
       "      <td>0.0</td>\n",
       "      <td>0.0</td>\n",
       "      <td>2400000.0</td>\n",
       "      <td>0.00</td>\n",
       "      <td>0.00</td>\n",
       "      <td>1925408.83</td>\n",
       "      <td>0.0</td>\n",
       "      <td>0.00</td>\n",
       "      <td>0.0</td>\n",
       "      <td>0.35</td>\n",
       "    </tr>\n",
       "    <tr>\n",
       "      <th>1000 um</th>\n",
       "      <td>7.41</td>\n",
       "      <td>0.00</td>\n",
       "      <td>3.46</td>\n",
       "      <td>0.0</td>\n",
       "      <td>0.0</td>\n",
       "      <td>2400000.0</td>\n",
       "      <td>0.00</td>\n",
       "      <td>0.00</td>\n",
       "      <td>1925408.83</td>\n",
       "      <td>0.0</td>\n",
       "      <td>0.35</td>\n",
       "      <td>0.0</td>\n",
       "      <td>0.00</td>\n",
       "    </tr>\n",
       "    <tr>\n",
       "      <th>...</th>\n",
       "      <th>...</th>\n",
       "      <th>...</th>\n",
       "      <td>...</td>\n",
       "      <td>...</td>\n",
       "      <td>...</td>\n",
       "      <td>...</td>\n",
       "      <td>...</td>\n",
       "      <td>...</td>\n",
       "      <td>...</td>\n",
       "      <td>...</td>\n",
       "      <td>...</td>\n",
       "      <td>...</td>\n",
       "      <td>...</td>\n",
       "      <td>...</td>\n",
       "      <td>...</td>\n",
       "    </tr>\n",
       "    <tr>\n",
       "      <th rowspan=\"5\" valign=\"top\">Surface Water</th>\n",
       "      <th rowspan=\"5\" valign=\"top\">Pristine</th>\n",
       "      <th>0.1 um</th>\n",
       "      <td>7.41</td>\n",
       "      <td>166.36</td>\n",
       "      <td>0.00</td>\n",
       "      <td>0.0</td>\n",
       "      <td>0.0</td>\n",
       "      <td>120000.0</td>\n",
       "      <td>6071969.30</td>\n",
       "      <td>4.23</td>\n",
       "      <td>39294.06</td>\n",
       "      <td>0.0</td>\n",
       "      <td>0.00</td>\n",
       "      <td>0.0</td>\n",
       "      <td>0.00</td>\n",
       "    </tr>\n",
       "    <tr>\n",
       "      <th>1 um</th>\n",
       "      <td>7.41</td>\n",
       "      <td>166.36</td>\n",
       "      <td>0.00</td>\n",
       "      <td>0.0</td>\n",
       "      <td>0.0</td>\n",
       "      <td>120000.0</td>\n",
       "      <td>607196.93</td>\n",
       "      <td>4.65</td>\n",
       "      <td>39294.06</td>\n",
       "      <td>0.0</td>\n",
       "      <td>0.00</td>\n",
       "      <td>0.0</td>\n",
       "      <td>0.00</td>\n",
       "    </tr>\n",
       "    <tr>\n",
       "      <th>10 um</th>\n",
       "      <td>7.41</td>\n",
       "      <td>166.36</td>\n",
       "      <td>0.00</td>\n",
       "      <td>0.0</td>\n",
       "      <td>0.0</td>\n",
       "      <td>120000.0</td>\n",
       "      <td>60719.69</td>\n",
       "      <td>0.35</td>\n",
       "      <td>39294.06</td>\n",
       "      <td>0.0</td>\n",
       "      <td>0.00</td>\n",
       "      <td>0.0</td>\n",
       "      <td>0.00</td>\n",
       "    </tr>\n",
       "    <tr>\n",
       "      <th>100 um</th>\n",
       "      <td>7.41</td>\n",
       "      <td>166.36</td>\n",
       "      <td>0.00</td>\n",
       "      <td>0.0</td>\n",
       "      <td>0.0</td>\n",
       "      <td>120000.0</td>\n",
       "      <td>6071.97</td>\n",
       "      <td>0.35</td>\n",
       "      <td>39294.06</td>\n",
       "      <td>0.0</td>\n",
       "      <td>0.00</td>\n",
       "      <td>0.0</td>\n",
       "      <td>0.00</td>\n",
       "    </tr>\n",
       "    <tr>\n",
       "      <th>1000 um</th>\n",
       "      <td>7.41</td>\n",
       "      <td>166.36</td>\n",
       "      <td>0.00</td>\n",
       "      <td>0.0</td>\n",
       "      <td>0.0</td>\n",
       "      <td>120000.0</td>\n",
       "      <td>607.20</td>\n",
       "      <td>0.35</td>\n",
       "      <td>39294.06</td>\n",
       "      <td>0.0</td>\n",
       "      <td>0.00</td>\n",
       "      <td>0.0</td>\n",
       "      <td>0.00</td>\n",
       "    </tr>\n",
       "  </tbody>\n",
       "</table>\n",
       "<p>80 rows × 13 columns</p>\n",
       "</div>"
      ],
      "text/plain": [
       "Process                                advection  biofilm  breakup  burial  \\\n",
       "Compartment   MP_form        SizeFrac                                        \n",
       "Flowing Water Biof&Heteroagg 0.1 um         7.41     0.00     3.46     0.0   \n",
       "                             1 um           7.41     0.00     3.46     0.0   \n",
       "                             10 um          7.41     0.00     3.46     0.0   \n",
       "                             100 um         7.41     0.00     3.46     0.0   \n",
       "                             1000 um        7.41     0.00     3.46     0.0   \n",
       "...                                          ...      ...      ...     ...   \n",
       "Surface Water Pristine       0.1 um         7.41   166.36     0.00     0.0   \n",
       "                             1 um           7.41   166.36     0.00     0.0   \n",
       "                             10 um          7.41   166.36     0.00     0.0   \n",
       "                             100 um         7.41   166.36     0.00     0.0   \n",
       "                             1000 um        7.41   166.36     0.00     0.0   \n",
       "\n",
       "Process                                defouling  degradation  fragmentation  \\\n",
       "Compartment   MP_form        SizeFrac                                          \n",
       "Flowing Water Biof&Heteroagg 0.1 um          0.0    2400000.0           0.00   \n",
       "                             1 um            0.0    2400000.0           0.00   \n",
       "                             10 um           0.0    2400000.0           0.00   \n",
       "                             100 um          0.0    2400000.0           0.00   \n",
       "                             1000 um         0.0    2400000.0           0.00   \n",
       "...                                          ...          ...            ...   \n",
       "Surface Water Pristine       0.1 um          0.0     120000.0     6071969.30   \n",
       "                             1 um            0.0     120000.0      607196.93   \n",
       "                             10 um           0.0     120000.0       60719.69   \n",
       "                             100 um          0.0     120000.0        6071.97   \n",
       "                             1000 um         0.0     120000.0         607.20   \n",
       "\n",
       "Process                                heteroagg      mixing  resusp  rising  \\\n",
       "Compartment   MP_form        SizeFrac                                          \n",
       "Flowing Water Biof&Heteroagg 0.1 um         0.00  1925408.83     0.0    0.00   \n",
       "                             1 um           0.00  1925408.83     0.0    0.00   \n",
       "                             10 um          0.00  1925408.83     0.0    0.00   \n",
       "                             100 um         0.00  1925408.83     0.0    0.00   \n",
       "                             1000 um        0.00  1925408.83     0.0    0.35   \n",
       "...                                          ...         ...     ...     ...   \n",
       "Surface Water Pristine       0.1 um         4.23    39294.06     0.0    0.00   \n",
       "                             1 um           4.65    39294.06     0.0    0.00   \n",
       "                             10 um          0.35    39294.06     0.0    0.00   \n",
       "                             100 um         0.35    39294.06     0.0    0.00   \n",
       "                             1000 um        0.35    39294.06     0.0    0.00   \n",
       "\n",
       "Process                                sedTransport  settling  \n",
       "Compartment   MP_form        SizeFrac                          \n",
       "Flowing Water Biof&Heteroagg 0.1 um             0.0      0.35  \n",
       "                             1 um               0.0      0.35  \n",
       "                             10 um              0.0      0.35  \n",
       "                             100 um             0.0      0.35  \n",
       "                             1000 um            0.0      0.00  \n",
       "...                                             ...       ...  \n",
       "Surface Water Pristine       0.1 um             0.0      0.00  \n",
       "                             1 um               0.0      0.00  \n",
       "                             10 um              0.0      0.00  \n",
       "                             100 um             0.0      0.00  \n",
       "                             1000 um            0.0      0.00  \n",
       "\n",
       "[80 rows x 13 columns]"
      ]
     },
     "execution_count": 25,
     "metadata": {},
     "output_type": "execute_result"
    }
   ],
   "source": [
    "Half_life_list[0]"
   ]
  },
  {
   "cell_type": "markdown",
   "metadata": {},
   "source": [
    "### Heat maps of half-life times "
   ]
  },
  {
   "cell_type": "code",
   "execution_count": 26,
   "metadata": {},
   "outputs": [
    {
     "data": {
      "image/png": "[encoded data removed]",
      "text/plain": [
       "<Figure size 1500x1000 with 8 Axes>"
      ]
     },
     "metadata": {},
     "output_type": "display_data"
    }
   ],
   "source": [
    "for i in range(len(Half_life_list)):    \n",
    "    \n",
    "    T_hm_array= [Half_life_list[i].loc[\"Surface Water\"],Half_life_list[i].loc[\"Flowing Water\"],Half_life_list[i].loc[\"Stagnant Water\"],Half_life_list[i].loc[\"Sediment\"]]\n",
    "    T_hm_array_ts=[x.transpose() for x in T_hm_array]\n",
    "    T_hm_array_ts=[y.replace(0, 0.0001) for y in T_hm_array_ts]\n",
    "    fig, axs = plt.subplots(2, 2, figsize=(15, 10))\n",
    "    plt.subplots_adjust(hspace=1.2, wspace=0.4)\n",
    "    fig.suptitle(list_names[i], fontsize = 18)\n",
    "    figname = \"HeatMaps/{}.png\".format(list_names[i])\n",
    "\n",
    "    for y in range(len(T_hm_array_ts)):\n",
    "        T_hm_array_ts[y].index = pd.CategoricalIndex(T_hm_array_ts[y].index, categories=[\"degradation\", \"fragmentation\", \"mixing\", \"biofilm\", \"heteroagg\", \"breakup\", \"advection\", \"settling\", \"rising\", \"resusp\", \"burial\", \"sedTransport\", \"defouling\"])\n",
    "        T_hm_array_ts[y].sort_index(level=0, inplace=True)\n",
    "        log_norm = LogNorm(vmin=T_hm_array_ts[y].min().min(), vmax=T_hm_array_ts[y].max().max())\n",
    "        \n",
    "        # Use o subplot correspondente para plotar cada item\n",
    "        ax = axs[y // 2, y % 2]\n",
    "        sns.heatmap(T_hm_array_ts[y], mask=(T_hm_array_ts[y] == 0.0001), annot=False, annot_kws={\"size\": 12}, fmt=\".2g\", cmap='GnBu', linewidth=0.01, linecolor='white', square=True, robust=True, cbar_kws={'label': 't_half (hours)'}, norm=log_norm, ax=ax)\n",
    "        ax.invert_xaxis()\n",
    "        ax.set_title(compartments[y])\n",
    "        for _, spine in ax.spines.items():\n",
    "            spine.set_visible(True)\n",
    "            spine.set_linewidth(1)\n",
    "        ax.set_facecolor('lightgrey')\n",
    "    plt.show()\n",
    "    fig.savefig(figname)"
   ]
  },
  {
   "cell_type": "markdown",
   "metadata": {},
   "source": [
    "## -Generate Interactions Matrix"
   ]
  },
  {
   "cell_type": "code",
   "execution_count": 27,
   "metadata": {
    "ExecuteTime": {
     "end_time": "2022-07-11T12:41:29.948367Z",
     "start_time": "2022-07-11T12:41:18.896618Z"
    }
   },
   "outputs": [],
   "source": [
    "list_interactions = []\n",
    "for i in range(len(list_df)):\n",
    "    list_interactions.append(fillInteractions_fun_v2_0(list_df[i], Clist, river_flows))"
   ]
  },
  {
   "cell_type": "markdown",
   "metadata": {},
   "source": [
    "### Interactions dataframe"
   ]
  },
  {
   "cell_type": "code",
   "execution_count": 28,
   "metadata": {
    "ExecuteTime": {
     "end_time": "2022-07-11T12:41:31.716608Z",
     "start_time": "2022-07-11T12:41:31.689605Z"
    }
   },
   "outputs": [
    {
     "data": {
      "text/html": [
       "<div>\n",
       "<style scoped>\n",
       "    .dataframe tbody tr th:only-of-type {\n",
       "        vertical-align: middle;\n",
       "    }\n",
       "\n",
       "    .dataframe tbody tr th {\n",
       "        vertical-align: top;\n",
       "    }\n",
       "\n",
       "    .dataframe thead th {\n",
       "        text-align: right;\n",
       "    }\n",
       "</style>\n",
       "<table border=\"1\" class=\"dataframe\">\n",
       "  <thead>\n",
       "    <tr style=\"text-align: right;\">\n",
       "      <th></th>\n",
       "      <th>01Aa</th>\n",
       "      <th>01Ab</th>\n",
       "      <th>01Ac</th>\n",
       "      <th>01Ad</th>\n",
       "      <th>01Ae</th>\n",
       "      <th>01Ba</th>\n",
       "      <th>01Bb</th>\n",
       "      <th>01Bc</th>\n",
       "      <th>01Bd</th>\n",
       "      <th>01Be</th>\n",
       "      <th>...</th>\n",
       "      <th>194Ca</th>\n",
       "      <th>194Cb</th>\n",
       "      <th>194Cc</th>\n",
       "      <th>194Cd</th>\n",
       "      <th>194Ce</th>\n",
       "      <th>194Da</th>\n",
       "      <th>194Db</th>\n",
       "      <th>194Dc</th>\n",
       "      <th>194Dd</th>\n",
       "      <th>194De</th>\n",
       "    </tr>\n",
       "  </thead>\n",
       "  <tbody>\n",
       "    <tr>\n",
       "      <th>01Aa</th>\n",
       "      <td>-7.272582e-05</td>\n",
       "      <td>0.000000</td>\n",
       "      <td>0.000000</td>\n",
       "      <td>0.000000</td>\n",
       "      <td>0.000000</td>\n",
       "      <td>0.000046</td>\n",
       "      <td>0.000000</td>\n",
       "      <td>0.000000</td>\n",
       "      <td>0.000000</td>\n",
       "      <td>0.000000</td>\n",
       "      <td>...</td>\n",
       "      <td>0.0</td>\n",
       "      <td>0.0</td>\n",
       "      <td>0.0</td>\n",
       "      <td>0.0</td>\n",
       "      <td>0.0</td>\n",
       "      <td>0.0</td>\n",
       "      <td>0.0</td>\n",
       "      <td>0.0</td>\n",
       "      <td>0.0</td>\n",
       "      <td>0.0</td>\n",
       "    </tr>\n",
       "    <tr>\n",
       "      <th>01Ab</th>\n",
       "      <td>6.056124e-07</td>\n",
       "      <td>-0.000069</td>\n",
       "      <td>0.000000</td>\n",
       "      <td>0.000000</td>\n",
       "      <td>0.000000</td>\n",
       "      <td>0.000000</td>\n",
       "      <td>0.000041</td>\n",
       "      <td>0.000000</td>\n",
       "      <td>0.000000</td>\n",
       "      <td>0.000000</td>\n",
       "      <td>...</td>\n",
       "      <td>0.0</td>\n",
       "      <td>0.0</td>\n",
       "      <td>0.0</td>\n",
       "      <td>0.0</td>\n",
       "      <td>0.0</td>\n",
       "      <td>0.0</td>\n",
       "      <td>0.0</td>\n",
       "      <td>0.0</td>\n",
       "      <td>0.0</td>\n",
       "      <td>0.0</td>\n",
       "    </tr>\n",
       "    <tr>\n",
       "      <th>01Ac</th>\n",
       "      <td>0.000000e+00</td>\n",
       "      <td>0.000006</td>\n",
       "      <td>-0.000583</td>\n",
       "      <td>0.000000</td>\n",
       "      <td>0.000000</td>\n",
       "      <td>0.000000</td>\n",
       "      <td>0.000000</td>\n",
       "      <td>0.000556</td>\n",
       "      <td>0.000000</td>\n",
       "      <td>0.000000</td>\n",
       "      <td>...</td>\n",
       "      <td>0.0</td>\n",
       "      <td>0.0</td>\n",
       "      <td>0.0</td>\n",
       "      <td>0.0</td>\n",
       "      <td>0.0</td>\n",
       "      <td>0.0</td>\n",
       "      <td>0.0</td>\n",
       "      <td>0.0</td>\n",
       "      <td>0.0</td>\n",
       "      <td>0.0</td>\n",
       "    </tr>\n",
       "    <tr>\n",
       "      <th>01Ad</th>\n",
       "      <td>0.000000e+00</td>\n",
       "      <td>0.000000</td>\n",
       "      <td>0.000061</td>\n",
       "      <td>-0.000583</td>\n",
       "      <td>0.000000</td>\n",
       "      <td>0.000000</td>\n",
       "      <td>0.000000</td>\n",
       "      <td>0.000000</td>\n",
       "      <td>0.000556</td>\n",
       "      <td>0.000000</td>\n",
       "      <td>...</td>\n",
       "      <td>0.0</td>\n",
       "      <td>0.0</td>\n",
       "      <td>0.0</td>\n",
       "      <td>0.0</td>\n",
       "      <td>0.0</td>\n",
       "      <td>0.0</td>\n",
       "      <td>0.0</td>\n",
       "      <td>0.0</td>\n",
       "      <td>0.0</td>\n",
       "      <td>0.0</td>\n",
       "    </tr>\n",
       "    <tr>\n",
       "      <th>01Ae</th>\n",
       "      <td>0.000000e+00</td>\n",
       "      <td>0.000000</td>\n",
       "      <td>0.000000</td>\n",
       "      <td>0.000606</td>\n",
       "      <td>-0.000583</td>\n",
       "      <td>0.000000</td>\n",
       "      <td>0.000000</td>\n",
       "      <td>0.000000</td>\n",
       "      <td>0.000000</td>\n",
       "      <td>0.000556</td>\n",
       "      <td>...</td>\n",
       "      <td>0.0</td>\n",
       "      <td>0.0</td>\n",
       "      <td>0.0</td>\n",
       "      <td>0.0</td>\n",
       "      <td>0.0</td>\n",
       "      <td>0.0</td>\n",
       "      <td>0.0</td>\n",
       "      <td>0.0</td>\n",
       "      <td>0.0</td>\n",
       "      <td>0.0</td>\n",
       "    </tr>\n",
       "  </tbody>\n",
       "</table>\n",
       "<p>5 rows × 1600 columns</p>\n",
       "</div>"
      ],
      "text/plain": [
       "              01Aa      01Ab      01Ac      01Ad      01Ae      01Ba  \\\n",
       "01Aa -7.272582e-05  0.000000  0.000000  0.000000  0.000000  0.000046   \n",
       "01Ab  6.056124e-07 -0.000069  0.000000  0.000000  0.000000  0.000000   \n",
       "01Ac  0.000000e+00  0.000006 -0.000583  0.000000  0.000000  0.000000   \n",
       "01Ad  0.000000e+00  0.000000  0.000061 -0.000583  0.000000  0.000000   \n",
       "01Ae  0.000000e+00  0.000000  0.000000  0.000606 -0.000583  0.000000   \n",
       "\n",
       "          01Bb      01Bc      01Bd      01Be  ...  194Ca  194Cb  194Cc  194Cd  \\\n",
       "01Aa  0.000000  0.000000  0.000000  0.000000  ...    0.0    0.0    0.0    0.0   \n",
       "01Ab  0.000041  0.000000  0.000000  0.000000  ...    0.0    0.0    0.0    0.0   \n",
       "01Ac  0.000000  0.000556  0.000000  0.000000  ...    0.0    0.0    0.0    0.0   \n",
       "01Ad  0.000000  0.000000  0.000556  0.000000  ...    0.0    0.0    0.0    0.0   \n",
       "01Ae  0.000000  0.000000  0.000000  0.000556  ...    0.0    0.0    0.0    0.0   \n",
       "\n",
       "      194Ce  194Da  194Db  194Dc  194Dd  194De  \n",
       "01Aa    0.0    0.0    0.0    0.0    0.0    0.0  \n",
       "01Ab    0.0    0.0    0.0    0.0    0.0    0.0  \n",
       "01Ac    0.0    0.0    0.0    0.0    0.0    0.0  \n",
       "01Ad    0.0    0.0    0.0    0.0    0.0    0.0  \n",
       "01Ae    0.0    0.0    0.0    0.0    0.0    0.0  \n",
       "\n",
       "[5 rows x 1600 columns]"
      ]
     },
     "execution_count": 28,
     "metadata": {},
     "output_type": "execute_result"
    }
   ],
   "source": [
    "list_interactions[0].head()"
   ]
  },
  {
   "cell_type": "code",
   "execution_count": 29,
   "metadata": {},
   "outputs": [
    {
     "ename": "IndexError",
     "evalue": "list index out of range",
     "output_type": "error",
     "traceback": [
      "\u001b[1;31m---------------------------------------------------------------------------\u001b[0m",
      "\u001b[1;31mIndexError\u001b[0m                                Traceback (most recent call last)",
      "Cell \u001b[1;32mIn[29], line 1\u001b[0m\n\u001b[1;32m----> 1\u001b[0m \u001b[43mlist_interactions\u001b[49m\u001b[43m[\u001b[49m\u001b[38;5;241;43m1\u001b[39;49m\u001b[43m]\u001b[49m\u001b[38;5;241m.\u001b[39mhead()\n",
      "\u001b[1;31mIndexError\u001b[0m: list index out of range"
     ]
    }
   ],
   "source": [
    "list_interactions[1].head()"
   ]
  },
  {
   "cell_type": "markdown",
   "metadata": {},
   "source": [
    "## - SOLVER"
   ]
  },
  {
   "cell_type": "code",
   "execution_count": null,
   "metadata": {
    "ExecuteTime": {
     "end_time": "2022-07-11T12:41:33.542941Z",
     "start_time": "2022-07-11T12:41:33.435086Z"
    }
   },
   "outputs": [],
   "source": [
    "#Initial number of particles in the system \n",
    "PartNum_t0 = pd.DataFrame(index=Clist, columns=['number of particles'])\n",
    "for p in range(len(PartNum_t0)):\n",
    "        PartNum_t0.iloc[p][0]= 0\n",
    "PartNum_t0.loc[\"C_\"+imputMP]=imputPulse\n",
    "\n",
    "#Inflow of particles as particles per second \n",
    "Ilist = []\n",
    "for C in Clist:\n",
    "    Ilist.append(\"I\"+ C[1:])\n",
    "inflow_vector = pd.DataFrame(index=Ilist, columns=[\"number of particles\"])\n",
    "inflow_vector.loc[:,:] = 0\n",
    "inflow_vector.loc[\"I_\"+imputMP] = imputFlow/60 #transformed to particles per sec\n",
    "\n",
    "#Model funcion\n",
    "def dNdt_2(N,t,k,I):  \n",
    "    dNdt=np.dot(N,k)+I\n",
    "    return np.squeeze(dNdt)"
   ]
  },
  {
   "cell_type": "code",
   "execution_count": null,
   "metadata": {
    "ExecuteTime": {
     "end_time": "2022-07-11T12:41:35.294001Z",
     "start_time": "2022-07-11T12:41:35.279540Z"
    }
   },
   "outputs": [],
   "source": [
    "# intitial condition\n",
    "N0 = PartNum_t0['number of particles'].to_numpy(dtype=\"float\")\n",
    "I= inflow_vector['number of particles'].to_numpy(dtype=\"float\")\n",
    "# time points\n",
    "time = np.linspace(0, tmax, int(timesteps)+1, dtype=int)##in seconds"
   ]
  },
  {
   "cell_type": "code",
   "execution_count": null,
   "metadata": {
    "ExecuteTime": {
     "end_time": "2022-07-11T12:42:35.885552Z",
     "start_time": "2022-07-11T12:41:37.069656Z"
    }
   },
   "outputs": [],
   "source": [
    "#Solve ODEs\n",
    "list_Nfinal_num = []\n",
    "for i in range(len(list_interactions)):\n",
    "    if SOLVER == 'Dynamic':\n",
    "        k=list_interactions[i].to_numpy()\n",
    "        Nfinal=odeint(dNdt_2, N0, time, args =(k,I), col_deriv=True)\n",
    "        list_Nfinal_num.append(pd.DataFrame(data = Nfinal, index=t_span , columns= Clist))  \n",
    "\n",
    "    elif SOLVER == \"SteadyState\":\n",
    "        print(\"Steady State not yet implemented\")"
   ]
  },
  {
   "cell_type": "code",
   "execution_count": null,
   "metadata": {},
   "outputs": [],
   "source": [
    "list_Nfinal_num[2]"
   ]
  },
  {
   "cell_type": "code",
   "execution_count": null,
   "metadata": {
    "ExecuteTime": {
     "end_time": "2022-07-11T12:43:43.341370Z",
     "start_time": "2022-07-11T12:42:37.831405Z"
    }
   },
   "outputs": [],
   "source": [
    "list_ConcFinal_num_m3 = []\n",
    "for i in range(len(list_Nfinal_num)):\n",
    "    #Vector of volumes corresponding to the compartments of the river\n",
    "    dilution_vol_m3= volumesVector(Clist,compartments_prop)\n",
    "\n",
    "    ConcFinal_num_m3= pd.DataFrame(data = 0, index=t_span , columns= Clist) \n",
    "    for ind in range(len(list_Nfinal_num[i])):\n",
    "        ConcFinal_num_m3.iloc[ind]=list_Nfinal_num[i].iloc[ind]/dilution_vol_m3\n",
    "\n",
    "    #Substitute values smaller than 10-5 to 0\n",
    "    list_ConcFinal_num_m3.append(ConcFinal_num_m3.apply(lambda x: [y if y >= 1e-15 else 0 for y in x]))"
   ]
  },
  {
   "cell_type": "code",
   "execution_count": null,
   "metadata": {},
   "outputs": [],
   "source": [
    "list_ConcFinal_num_m3[0]"
   ]
  },
  {
   "cell_type": "markdown",
   "metadata": {},
   "source": [
    "### Concentrations dataframe (mg/m3)"
   ]
  },
  {
   "cell_type": "code",
   "execution_count": null,
   "metadata": {
    "ExecuteTime": {
     "end_time": "2022-07-11T12:43:48.201368Z",
     "start_time": "2022-07-11T12:43:47.816787Z"
    }
   },
   "outputs": [],
   "source": [
    "list_ConcFinal_mg_m3 = []\n",
    "volume= RC_df_st.loc[\"volume_m3\"].to_numpy()\n",
    "density= RC_df_st.loc[\"density_kg_m3\"].to_numpy()\n",
    "for i in range(len(list_ConcFinal_num_m3)):\n",
    "    list_ConcFinal_mg_m3.append(list_ConcFinal_num_m3*volume*density*10**6)"
   ]
  },
  {
   "cell_type": "markdown",
   "metadata": {},
   "source": [
    "# Plot results"
   ]
  },
  {
   "cell_type": "markdown",
   "metadata": {},
   "source": [
    "## Multyplots graphs: Concentration over time"
   ]
  },
  {
   "cell_type": "markdown",
   "metadata": {},
   "source": [
    "### Select time span units for plotting (t_span_plot)"
   ]
  },
  {
   "cell_type": "code",
   "execution_count": null,
   "metadata": {
    "ExecuteTime": {
     "end_time": "2022-07-11T12:43:50.506519Z",
     "start_time": "2022-07-11T12:43:50.491992Z"
    }
   },
   "outputs": [],
   "source": [
    "t_span_sec = np.linspace(t0, tmax, int(timesteps)+1, dtype=int)\n",
    "t_span_min=t_span_sec/60\n",
    "t_span_h = t_span_min/60\n",
    "t_span_days = t_span_h/24\n",
    "t_span_months = t_span_days/30"
   ]
  },
  {
   "cell_type": "code",
   "execution_count": null,
   "metadata": {
    "ExecuteTime": {
     "end_time": "2022-07-11T12:43:52.887715Z",
     "start_time": "2022-07-11T12:43:52.872599Z"
    }
   },
   "outputs": [],
   "source": [
    "t_span_plot = t_span_months"
   ]
  },
  {
   "cell_type": "markdown",
   "metadata": {},
   "source": [
    "### Select river sections to plot"
   ]
  },
  {
   "cell_type": "code",
   "execution_count": null,
   "metadata": {
    "ExecuteTime": {
     "end_time": "2022-07-11T12:43:55.313074Z",
     "start_time": "2022-07-11T12:43:55.301104Z"
    }
   },
   "outputs": [],
   "source": [
    "RS= [\"0\",\"3\",\"5\",\"9\",\"10\",\"11\",\"12\"] "
   ]
  },
  {
   "cell_type": "markdown",
   "metadata": {},
   "source": [
    "### Select color palette and style"
   ]
  },
  {
   "cell_type": "code",
   "execution_count": null,
   "metadata": {
    "ExecuteTime": {
     "end_time": "2022-07-11T12:43:57.838650Z",
     "start_time": "2022-07-11T12:43:57.823962Z"
    }
   },
   "outputs": [],
   "source": [
    "palette = plt.get_cmap('Set2')\n",
    "plt.style.use('seaborn-white')"
   ]
  },
  {
   "cell_type": "markdown",
   "metadata": {},
   "source": [
    "### Plot"
   ]
  },
  {
   "cell_type": "code",
   "execution_count": null,
   "metadata": {
    "ExecuteTime": {
     "end_time": "2022-06-24T14:25:02.946969Z",
     "start_time": "2022-06-24T14:24:16.841440Z"
    }
   },
   "outputs": [],
   "source": [
    "figures=[]\n",
    "png_labels=[]\n",
    "for p in range(len(MPforms)):\n",
    "    fig, axs = plt.subplots(len(compartments),len(RS), figsize=(30, 15),sharex='col')\n",
    "    fig.suptitle(\"Concentration of \"+ composition +\" \" + MPformslabels[p]+ \" (Num/$m^3$) over time\", fontsize=30)\n",
    "    for i in range(len(RS)):\n",
    "        for j in range(len(compartments)):\n",
    "            for k in range(len(sizeBin)):\n",
    "\n",
    "                axs[j,i].plot(list_ConcFinal_num_m3[5].index/60/60/24, list_ConcFinal_num_m3[5].loc[:,\"C_\"+RS[i]+str(j+1)+MPforms[p]+ sizeBin[k]], label= sizeBinLabel[k], color=palette(k), linewidth=3);\n",
    "                axs[j,i].set_yscale(\"log\")\n",
    "                axs[j,i].set_ylim(0,1e-1)\n",
    "                if RS[i] == \"0\":\n",
    "                    axs[j,i].set_title(compartments[j]+\"\\n 0-\" + str(int(RS_cumLength_m[int(RS[i])]/1000))+\" km distance \", y=1.0)\n",
    "                else:               \n",
    "                    axs[j,i].set_title(compartments[j]+\"\\n \"+str(int(RS_cumLength_m[int(RS[i])-1]/1000))+ \"-\" + str(int(RS_cumLength_m[int(RS[i])]/1000))+\" km distance \", y=1.0)\n",
    "\n",
    "                #axs[j,i].set_yscale('log')\n",
    "                axs[j,i].legend()\n",
    "                  \n",
    "\n",
    "    # Axis titles\n",
    "    plt.text(0.1, 0.5, \"Concentration of particles (Num/$m^3$)\", fontsize=18, transform=plt.gcf().transFigure, rotation='vertical',ha='center', va='center')\n",
    "    plt.text(0.5, 0.1, \"time (days)\", fontsize=18, transform=plt.gcf().transFigure, ha='center', va='center')\n",
    "    png_label = \"Concentration_Num_m3_Multiplot_sizeBins_\"+ MPformslabels[p] +\"_\" +composition+'.png'\n",
    "    png_labels.append(png_label)\n",
    "    figures.append(fig)"
   ]
  },
  {
   "cell_type": "code",
   "execution_count": null,
   "metadata": {},
   "outputs": [],
   "source": []
  },
  {
   "cell_type": "markdown",
   "metadata": {},
   "source": [
    "## Multyplots graphs: Concentration vs distance over time "
   ]
  },
  {
   "cell_type": "markdown",
   "metadata": {},
   "source": [
    "### - Organise results for dynamic plotting (GIF)"
   ]
  },
  {
   "cell_type": "markdown",
   "metadata": {},
   "source": [
    "#### Function to extract concentration values by size fraction"
   ]
  },
  {
   "cell_type": "code",
   "execution_count": null,
   "metadata": {
    "ExecuteTime": {
     "end_time": "2022-07-11T12:44:00.212034Z",
     "start_time": "2022-07-11T12:44:00.198072Z"
    }
   },
   "outputs": [],
   "source": [
    "#Select Concentration Units: number of particles or mass\n",
    "ConcPlot_choice=\"ConcFinal_num_m3\"\n",
    "if ConcPlot_choice == \"ConcFinal_num_m3\":\n",
    "    ConcPlot = ConcFinal_num_m3\n",
    "    ConcPlot_units= [\"(No/$m^3$)\",\"Num_m3\"]\n",
    "elif ConcPlot_choice == \"ConcFinal_mg_m3\":\n",
    "    ConcPlot = ConcFinal_mg_m3\n",
    "    ConcPlot_units= [\"(mg/$m^3$)\",\"mg_m3\"]\n",
    "else:\n",
    "    print (\"Choose correct concentration dataframe\")"
   ]
  },
  {
   "cell_type": "code",
   "execution_count": null,
   "metadata": {
    "ExecuteTime": {
     "end_time": "2022-07-11T12:44:15.570195Z",
     "start_time": "2022-07-11T12:44:15.555758Z"
    }
   },
   "outputs": [],
   "source": [
    "def extract_SizeBins (t, comp, MPform,):\n",
    "    Aa=[]\n",
    "    Ab=[]\n",
    "    Ac=[]\n",
    "    Ad=[]\n",
    "    Ae=[]\n",
    "    for i in range(len(listRS)):\n",
    "        Aa.append(ConcPlot.values[t, Clist.index(\"C_\"+str(listRS[i])+comp+MPform+\"a\")])\n",
    "        Ab.append(ConcPlot.values[t, Clist.index(\"C_\"+str(listRS[i])+comp+MPform+\"b\")])\n",
    "        Ac.append(ConcPlot.values[t, Clist.index(\"C_\"+str(listRS[i])+comp+MPform+\"c\")])\n",
    "        Ad.append(ConcPlot.values[t, Clist.index(\"C_\"+str(listRS[i])+comp+MPform+\"d\")]) \n",
    "        Ae.append(ConcPlot.values[t, Clist.index(\"C_\"+str(listRS[i])+comp+MPform+\"e\")]) \n",
    "    return [Aa, Ab, Ac, Ad, Ae]"
   ]
  },
  {
   "cell_type": "markdown",
   "metadata": {},
   "source": [
    "#### Function to extract lists from a list by criteria"
   ]
  },
  {
   "cell_type": "code",
   "execution_count": null,
   "metadata": {
    "ExecuteTime": {
     "end_time": "2022-07-11T12:44:02.783088Z",
     "start_time": "2022-07-11T12:44:02.768035Z"
    }
   },
   "outputs": [],
   "source": [
    "def listofindex(criteria,Clist):                                                                                                             \n",
    "    lista= [[] for x in range(len(criteria))]\n",
    "    for i in range(len(lista)):\n",
    "        lista[i] = [n for n in Clist if criteria[i] in n[-3:]]\n",
    "    return lista"
   ]
  },
  {
   "cell_type": "markdown",
   "metadata": {},
   "source": [
    "#### Extract list of indexes needed for plotting"
   ]
  },
  {
   "cell_type": "code",
   "execution_count": null,
   "metadata": {
    "ExecuteTime": {
     "end_time": "2022-07-11T12:44:05.344727Z",
     "start_time": "2022-07-11T12:44:05.331074Z"
    }
   },
   "outputs": [],
   "source": [
    "list_of_indexesMpType=listofindex(MPforms,Clist)\n",
    "list_of_indexesCompartments=listofindex(riverComp,Clist)\n",
    "list_ofindexesSizeBins=listofindex(sizeBin,Clist)"
   ]
  },
  {
   "cell_type": "markdown",
   "metadata": {},
   "source": [
    "#### Define time resolution for extracting results (time_extract)"
   ]
  },
  {
   "cell_type": "code",
   "execution_count": null,
   "metadata": {
    "ExecuteTime": {
     "end_time": "2022-07-11T12:44:07.917874Z",
     "start_time": "2022-07-11T12:44:07.902811Z"
    }
   },
   "outputs": [],
   "source": [
    "numTstep_hour=(60*60/stepSize)\n",
    "Time_months=t_span[::(int(numTstep_hour*24*30))]\n",
    "Time_days=t_span[::(int(numTstep_hour*24))]\n",
    "Time_halfMonth=t_span[::(int(numTstep_hour*24*15))]\n",
    "Time_5days=t_span[::(int(numTstep_hour*24*5))]#5 days"
   ]
  },
  {
   "cell_type": "code",
   "execution_count": null,
   "metadata": {
    "ExecuteTime": {
     "end_time": "2022-07-11T12:44:10.507652Z",
     "start_time": "2022-07-11T12:44:10.492824Z"
    }
   },
   "outputs": [],
   "source": [
    "time_extract=Time_months"
   ]
  },
  {
   "cell_type": "markdown",
   "metadata": {},
   "source": [
    "#### Extract data for plotting"
   ]
  },
  {
   "cell_type": "markdown",
   "metadata": {},
   "source": [
    "#### Set x values (distance in km)"
   ]
  },
  {
   "cell_type": "code",
   "execution_count": null,
   "metadata": {
    "ExecuteTime": {
     "end_time": "2022-07-11T12:44:12.983443Z",
     "start_time": "2022-07-11T12:44:12.969404Z"
    }
   },
   "outputs": [],
   "source": [
    "#Distance values\n",
    "x =[d/1000 for d in RS_cumLength_m]\n",
    "compartmentsLabel=[\"Surface\\n Water\", \"Flowing\\n Water\", \"Stagnant\\n Water\", \"Sediment\"]"
   ]
  },
  {
   "cell_type": "markdown",
   "metadata": {},
   "source": [
    "#### Dataframe of y values (num/m$^3$)"
   ]
  },
  {
   "cell_type": "code",
   "execution_count": null,
   "metadata": {
    "ExecuteTime": {
     "end_time": "2022-07-11T12:46:12.588345Z",
     "start_time": "2022-07-11T12:45:36.241770Z"
    }
   },
   "outputs": [],
   "source": [
    "y_multiplot_time= [[] for t in range(len(time_extract))]\n",
    "for t in range(len(time_extract)):\n",
    "    y_multiplot =pd.DataFrame(index=compartments, columns=MPformslabels)\n",
    "    #Estimate relative abundance of MP types in the whole river and of particles per compartment\n",
    "    for j in range(len(compartments)):\n",
    "            for k in range(len(MPforms)):\n",
    "                y_multiplot.iloc[j,k] = extract_SizeBins(int(time_extract[t]/stepSize), str(j+1),MPforms[k])  \n",
    "    y_multiplot_time[t]=y_multiplot               \n",
    "#y_multiplot_time     "
   ]
  },
  {
   "cell_type": "markdown",
   "metadata": {},
   "source": [
    "#### Distribution of MPs per aggregation state and compartment over time relative to particle number\n"
   ]
  },
  {
   "cell_type": "code",
   "execution_count": null,
   "metadata": {
    "ExecuteTime": {
     "end_time": "2022-07-11T12:46:17.089433Z",
     "start_time": "2022-07-11T12:46:16.948719Z"
    }
   },
   "outputs": [],
   "source": [
    "MpTypeNum_t=pd.DataFrame(index=range(len(time_extract)),columns=[\"Timepoint (min)\"]+[m+\" (Total number)\" for m in MPformslabels]+[\"Total\"])\n",
    "RelativeAbun_MPtype_t=pd.DataFrame(0, columns=[\"Timepoint (days)\"]+[m+\" (%)\" for m in MPformslabels], index=MpTypeNum_t.index)\n",
    "compNum_t=pd.DataFrame(index=range(len(time_extract)),columns=[\"Timepoint (min)\"]+[m+\" (Total number)\" for m in compartments]+[\"Total\"])\n",
    "RelativeAbun_Comp=pd.DataFrame(0, columns=[\"Timepoint (days)\"]+[m+\" (%)\" for m in compartments], index=MpTypeNum_t.index)\n",
    "for t in range(len(time_extract)):\n",
    "    #Convert concentration to particle number\n",
    "    PartNum_timestep=ConcFinal_num_m3.iloc[int(time_extract[t]/stepSize)]*dilution_vol_m3\n",
    "    MpTypeNum_t.iloc[t,len(MPforms)+1]=sum(PartNum_timestep)\n",
    "    PartNum_timestep=PartNum_timestep.to_frame()\n",
    "    for mp in range(1,1+len(MPforms)):\n",
    "        MpTypeNum_t.iloc[t,mp]=sum(PartNum_timestep.loc[list_of_indexesMpType[mp-1], :][time_extract[t]].to_list())\n",
    "        if MpTypeNum_t.iloc[t,len(MPforms)+1] == 0:\n",
    "            RelativeAbun_MPtype_t.iloc[t,mp]= 0\n",
    "        else:\n",
    "            RelativeAbun_MPtype_t.iloc[t,mp]=round((MpTypeNum_t.iloc[t,mp]/MpTypeNum_t.iloc[t,len(MPforms)+1])*100,2)\n",
    "    for com in range(1,1+len(compartments)):\n",
    "        compNum_t.iloc[t,com]=sum(PartNum_timestep.loc[list_of_indexesCompartments[com-1], :][time_extract[t]].to_list())\n",
    "        if MpTypeNum_t.iloc[t,len(MPforms)+1]== 0:\n",
    "            RelativeAbun_Comp.iloc[t,com]=0\n",
    "        else:\n",
    "            RelativeAbun_Comp.iloc[t,com]=round((compNum_t.iloc[t,com]/MpTypeNum_t.iloc[t,len(MPforms)+1])*100,2)\n",
    "    RelativeAbun_MPtype_t.iloc[t,0]=t\n",
    "    MpTypeNum_t.iloc[t,0]=time_extract[t]/stepSize\n",
    "    compNum_t.iloc[t,0]=time_extract[t]/stepSize\n",
    "    RelativeAbun_Comp.iloc[t,0]=t"
   ]
  },
  {
   "cell_type": "markdown",
   "metadata": {},
   "source": [
    "#### - Relative abundance of MPs aggregation states in the whole system per time step"
   ]
  },
  {
   "cell_type": "code",
   "execution_count": null,
   "metadata": {
    "ExecuteTime": {
     "end_time": "2022-07-11T12:46:21.531494Z",
     "start_time": "2022-07-11T12:46:21.518130Z"
    }
   },
   "outputs": [],
   "source": [
    "compNum_t"
   ]
  },
  {
   "cell_type": "code",
   "execution_count": null,
   "metadata": {
    "ExecuteTime": {
     "end_time": "2022-07-11T12:46:26.119996Z",
     "start_time": "2022-07-11T12:46:26.104986Z"
    }
   },
   "outputs": [],
   "source": [
    "RelativeAbun_MPtype_t"
   ]
  },
  {
   "cell_type": "markdown",
   "metadata": {},
   "source": [
    "#### - Fractionation of MPs per compartmet over time for the whole system"
   ]
  },
  {
   "cell_type": "code",
   "execution_count": null,
   "metadata": {
    "ExecuteTime": {
     "end_time": "2022-07-11T12:46:30.695059Z",
     "start_time": "2022-07-11T12:46:30.681125Z"
    }
   },
   "outputs": [],
   "source": [
    "RelativeAbun_Comp"
   ]
  },
  {
   "cell_type": "markdown",
   "metadata": {},
   "source": [
    "#### - Relative abundance per size fraction after 1 year run"
   ]
  },
  {
   "cell_type": "code",
   "execution_count": null,
   "metadata": {
    "ExecuteTime": {
     "end_time": "2022-07-11T12:46:35.452390Z",
     "start_time": "2022-07-11T12:46:35.437454Z"
    }
   },
   "outputs": [],
   "source": [
    "#Define time step (1year)\n",
    "time=range(len(t_span))\n",
    "t=time[-1]# last time step "
   ]
  },
  {
   "cell_type": "code",
   "execution_count": null,
   "metadata": {
    "ExecuteTime": {
     "end_time": "2022-07-11T12:46:39.904008Z",
     "start_time": "2022-07-11T12:46:39.873088Z"
    }
   },
   "outputs": [],
   "source": [
    "# Estimate total number of particles per size fraction in each compartment for the whole river\n",
    "list_SizeFracNum_comp = []\n",
    "\n",
    "for i in range(len(list_Nfinal_num)): \n",
    "    SizeFracNum_comp=pd.DataFrame(index=sizeBinLabel,columns= compartments)\n",
    "    for siz in range(len(sizeBin)):\n",
    "        for co in range(len(SizeFracNum_comp.columns)):  \n",
    "            list_sb= [n for n in list_of_indexesCompartments[co] if sizeBin[siz] in n[-3:]]\n",
    "            SizeFracNum_comp.iloc[siz,co]=sum(list_Nfinal_num[i][list_sb].iloc[t].to_list())\n",
    "            list_SizeFracNum_comp.append(SizeFracNum_comp)"
   ]
  },
  {
   "cell_type": "code",
   "execution_count": null,
   "metadata": {
    "ExecuteTime": {
     "end_time": "2022-07-11T12:46:44.514471Z",
     "start_time": "2022-07-11T12:46:44.484228Z"
    }
   },
   "outputs": [],
   "source": [
    "Total_num_water=sum(sum(SizeFracNum_comp[compartments[0:3]].values))\n",
    "Total_num_sediment=sum(SizeFracNum_comp[compartments[-1]].values)\n",
    "RelativeAbun_SizeFrac=pd.DataFrame(index=sizeBinLabel,columns=[\"Relative abundance in water (%)\", \"Relative abundance in sediment (%)\"])\n",
    "for siz in range(len(sizeBin)):\n",
    "    if sum(SizeFracNum_comp.iloc[siz][compartments[0:3]].values)==0:\n",
    "        RelativeAbun_SizeFrac.iloc[siz,0]=0\n",
    "    else:\n",
    "        RelativeAbun_SizeFrac.iloc[siz,0]=round((sum(SizeFracNum_comp.iloc[siz][compartments[0:3]].values)/Total_num_water)*100,2)\n",
    "    if SizeFracNum_comp.iloc[siz][compartments[-1]]==0:\n",
    "        RelativeAbun_SizeFrac.iloc[siz,1]=0\n",
    "    else:\n",
    "        RelativeAbun_SizeFrac.iloc[siz,1]=round((SizeFracNum_comp.iloc[siz][compartments[-1]]/Total_num_sediment)*100,2)\n",
    "RelativeAbun_SizeFrac"
   ]
  },
  {
   "cell_type": "code",
   "execution_count": null,
   "metadata": {
    "ExecuteTime": {
     "end_time": "2022-07-11T12:46:49.118997Z",
     "start_time": "2022-07-11T12:46:49.073946Z"
    }
   },
   "outputs": [],
   "source": [
    "# Estimate total number of particles per size fraction in each compartment for the downstream section (last 200 km )\n",
    "list_SizeFracNum_comp_downs = []\n",
    "\n",
    "for i in range(len(list_Nfinal_num)):\n",
    "    SizeFracNum_comp_downs=pd.DataFrame(index=sizeBinLabel,columns= compartments)\n",
    "    for siz in range(len(sizeBin)):\n",
    "        for co in range(len(SizeFracNum_comp.columns)):\n",
    "            list_sb= [n for n in list_of_indexesCompartments[co] if sizeBin[siz] in n[-3:]]\n",
    "            list_sb_downstream=list_sb[20*4-4*4:]\n",
    "            SizeFracNum_comp_downs.iloc[siz,co]=sum(list_Nfinal_num[i][list_sb_downstream].iloc[t].to_list())\n",
    "        list_SizeFracNum_comp_downs.append(SizeFracNum_comp_downs)\n",
    "\n",
    "SizeFracNum_comp_downs\n",
    "Total_num_water_downs=sum(sum(SizeFracNum_comp_downs[compartments[0:3]].values))\n",
    "Total_num_sediment_downs=sum(SizeFracNum_comp_downs[compartments[-1]].values)\n",
    "\n",
    "list_RelativeAbun_SizeFrac_downs = []\n",
    "\n",
    "for i in range(len(list_SizeFracNum_comp_downs)):\n",
    "    RelativeAbun_SizeFrac_downs=pd.DataFrame(index=sizeBinLabel,columns=[\"Relative abundance in water (%)\", \"Relative abundance in sediment (%)\"])\n",
    "    for siz in range(len(sizeBin)):\n",
    "        if sum(list_SizeFracNum_comp_downs[i].iloc[siz][compartments[0:3]].values)==0:\n",
    "            RelativeAbun_SizeFrac_downs.iloc[siz,0]=0\n",
    "        else:\n",
    "            RelativeAbun_SizeFrac_downs.iloc[siz,0]=round((sum(list_SizeFracNum_comp_downs[i].iloc[siz][compartments[0:3]].values)/Total_num_water_downs)*100,2)\n",
    "        if SizeFracNum_comp_downs.iloc[siz][compartments[-1]]==0:\n",
    "            RelativeAbun_SizeFrac_downs.iloc[siz,1]=0\n",
    "        else:\n",
    "            RelativeAbun_SizeFrac_downs.iloc[siz,1]=round((list_SizeFracNum_comp_downs[i].iloc[siz][compartments[-1]]/Total_num_sediment_downs)*100,2)\n",
    "        list_RelativeAbun_SizeFrac_downs.append(RelativeAbun_SizeFrac_downs)"
   ]
  },
  {
   "cell_type": "markdown",
   "metadata": {},
   "source": [
    "### PLOT"
   ]
  },
  {
   "cell_type": "markdown",
   "metadata": {},
   "source": [
    "#### Choose style and colour palette"
   ]
  },
  {
   "cell_type": "code",
   "execution_count": null,
   "metadata": {
    "ExecuteTime": {
     "end_time": "2022-07-11T12:46:54.069317Z",
     "start_time": "2022-07-11T12:46:54.054291Z"
    }
   },
   "outputs": [],
   "source": [
    "palette = plt.get_cmap('Set2')\n",
    "plt.style.use('seaborn-white')\n",
    "# these are matplotlib.patch.Patch properties\n",
    "props = dict(boxstyle='round', facecolor='ivory', alpha=0.5)\n",
    "props2 = dict(boxstyle='round', facecolor='white', alpha=0.5)"
   ]
  },
  {
   "cell_type": "markdown",
   "metadata": {},
   "source": [
    "### Dynamic plot"
   ]
  },
  {
   "cell_type": "code",
   "execution_count": null,
   "metadata": {
    "ExecuteTime": {
     "end_time": "2022-07-11T12:47:07.677630Z",
     "start_time": "2022-07-11T12:46:59.174523Z"
    }
   },
   "outputs": [],
   "source": [
    "#Move to figures folder\n",
    "os.chdir(results_figures_path)\n",
    "#Generate animation\n",
    "fig, axs = plt.subplots(len(compartments),len(MPforms), figsize=(30, 15),sharex='col')\n",
    "labels = ['0.1 um', '1 um', '10 um', '100 um', '1000 um']\n",
    "if imputPulse != 0:\n",
    "    if imputFlow==0:\n",
    "        fig.suptitle( composition +\" microplastics fate in generic river over time (pulse= \"+ str(imputPulse)+\" particles of 1mm)\", fontsize=30)\n",
    "    else:\n",
    "        fig.suptitle( composition +\" microplastics fate in generic river over time (pulse= \"+ str(imputPulse)+\" + inflow= \"+str(imputFlow)+\" particles/min of 1mm)\", fontsize=30)\n",
    "else:\n",
    "    fig.suptitle( composition +\" microplastics fate in generic river over time (inflow= \"+str(imputFlow)+\" particles/min of 1mm)\", fontsize=30)\n",
    "camera = Camera(fig)\n",
    "for t in range(len(time_extract)): \n",
    "    for j in range(len(compartments)):\n",
    "        for k in range(len(MPforms)):\n",
    "            #Plot\n",
    "            y = y_multiplot_time[t].iloc[j,k]\n",
    "            axs[j,k].plot(x, y[0], linewidth=2.5,color=palette(0), label='0.1 um')\n",
    "            axs[j,k].plot(x, y[1], linewidth=2.5,color=palette(1), label='1 um')\n",
    "            axs[j,k].plot(x, y[2], linewidth=2.5,color=palette(2), label='10 um')\n",
    "            axs[j,k].plot(x, y[3], linewidth=2.5,color=palette(3), label='100 um')\n",
    "            axs[j,k].plot(x, y[4], linewidth=2.5,color=palette(4), label='1000 um')\n",
    "            axs[j,k].text(0.90,0.90,str(int(time_extract[t]/60/60/24)) + ' days', bbox=props, fontsize=12, transform=axs[j,k].transAxes, ha='center', va='center')\n",
    "            #Set axes labels and title\n",
    "            if j== 0:\n",
    "                axs[j,k].text(0.5,1.1, MPformslabels[k]+ \"\\n \" +str(RelativeAbun_MPtype_t.iloc[t,k+1])+ \" %\",fontsize=20, bbox=props2, transform= axs[j,k].transAxes, ha='center')        \n",
    "            else:\n",
    "                axs[j,k].set_title(MPformslabels[k]+ \" \" + composition+ \" particles in \"+ compartments[j],fontsize=15)\n",
    "      \n",
    "            if k==0:\n",
    "                axs[j,k].text(-0.25, 0.5, compartmentsLabel[j]+\"\\n\"+str(RelativeAbun_Comp.iloc[t,j+1])+\" %\",fontsize=20,rotation=0, va='center',ha='center',bbox=props2, transform=axs[j,k].transAxes)\n",
    "                \n",
    "        \n",
    "            axs[j,k].set_yscale('log')\n",
    "            if j==0:\n",
    "                axs[j,k].set_ylim(10**-9,10**1)\n",
    "            elif j==1:\n",
    "                axs[j,k].set_ylim(10**-9,10**1)\n",
    "            elif j== 2:\n",
    "                axs[j,k].set_ylim(10**-9,10**1)\n",
    "            else:\n",
    "                axs[j,k].set_ylim(10**-9,10**1)\n",
    "            axs[j,k].set_xlim(x[0],x[-1])\n",
    "            axs[j,k].tick_params(axis='x', labelsize=12)\n",
    "            axs[j,k].tick_params(axis='y', labelsize=12)\n",
    "           \n",
    "    # Axis titles\n",
    "    plt.text(0.05, 0.5, \"Concentration of particles \" +ConcPlot_units[0], fontsize=20, transform=plt.gcf().transFigure, rotation='vertical',ha='center', va='center')\n",
    "    plt.text(0.5, 0.08, \"Distance (km)\", fontsize=20, transform=plt.gcf().transFigure, ha='center', va='center')\n",
    "    #plt.legend(labels,bbox_to_anchor=(0.5, -0.18), loc='center',ncol=5, fontsize=15 )\n",
    "    camera.snap()\n",
    "           \n",
    "if imputPulse != 0:\n",
    "    animationTitle= composition+ \"_MPs_fate_dynamicPlot_log_monthly_\"+ConcPlot_units[1]+\"_Pulse_.gif\"\n",
    "else:\n",
    "    animationTitle= composition+ \"_MPs_fate_dynamicPlot_log_monthly_\"+ConcPlot_units[1]+\"_ConstantInflow_\"+str(imputFlow)+\".gif\"\n",
    "\n",
    "animation = camera.animate()\n",
    "animation.save(animationTitle, writer='matplotlib.animation.PillowWriter', fps=2) \n",
    "os.chdir(cwd)"
   ]
  },
  {
   "cell_type": "markdown",
   "metadata": {},
   "source": [
    "## Plot after 360 days"
   ]
  },
  {
   "cell_type": "markdown",
   "metadata": {},
   "source": [
    "#### Static plot (t=tfinal)"
   ]
  },
  {
   "cell_type": "code",
   "execution_count": null,
   "metadata": {
    "ExecuteTime": {
     "end_time": "2022-07-11T12:47:12.340149Z",
     "start_time": "2022-07-11T12:47:12.326153Z"
    }
   },
   "outputs": [],
   "source": [
    "t=len(time_extract)-1"
   ]
  },
  {
   "cell_type": "code",
   "execution_count": null,
   "metadata": {
    "ExecuteTime": {
     "end_time": "2022-07-11T12:47:21.465526Z",
     "start_time": "2022-07-11T12:47:17.001187Z"
    }
   },
   "outputs": [],
   "source": [
    "import matplotlib.ticker as ticker\n",
    "from matplotlib import ticker\n",
    "\n",
    "fig2, axs = plt.subplots(len(compartments),len(MPforms), figsize=(15, 10),sharex='col', sharey= \"row\", squeeze=\"True\")\n",
    "\n",
    "labels = ['0.1 um', '1 um', '10 um', '100 um', '1000 um']\n",
    "if imputFlow == 0:\n",
    "    fig2.suptitle( composition +\" plastic particles after \"+str(int(time_extract[t]/60/60/24)) + \" days (pulse= \"+ str(imputPulse)+\" particles of 1mm)\" , fontsize=18,  y=0.95)\n",
    "    \n",
    "else:\n",
    "    fig2.suptitle( composition +\" plastic particles after \"+str(int(time_extract[t]/60/60/24)) + \" days\" , fontsize=18,  y=0.95)\n",
    "\n",
    "for j in range(len(compartments)):\n",
    "    if j == 3:\n",
    "        for k in range(len(MPforms)):\n",
    "            #Plot\n",
    "            y = extract_SizeBins (t, riverComp[j], MPforms[k])\n",
    "            axs[j,k].plot(x, [e * 10**6/1.3 for e in y[0]], linewidth=2.5,color=palette(0), label='0.1 um')\n",
    "            axs[j,k].plot(x, [e * 10**6/1.3 for e in y[1]], linewidth=2.5,color=palette(1), label='1 um')\n",
    "            axs[j,k].plot(x, [e * 10**6/1.3 for e in y[2]], linewidth=2.5,color=palette(2), label='10 um')\n",
    "            axs[j,k].plot(x, [e * 10**6/1.3 for e in y[3]], linewidth=2.5,color=palette(3), label='100 um')\n",
    "            axs[j,k].plot(x, [e * 10**6/1.3 for e in y[4]], linewidth=2.5,color=palette(4), label='1000 um')\n",
    "\n",
    "            if k==3:\n",
    "                axs[j,k].text(1.2, 0.5, compartmentsLabel[j] ,fontsize=15,rotation=0, va='center',ha='center', transform=axs[j,k].transAxes)\n",
    "\n",
    "            axs[j,k].set_yscale('log')\n",
    "            axs[j,k].set_ylim(10**-9,1000000)\n",
    "            if k == 0:\n",
    "                axs[j,k].set_ylabel(\"Conc (mg/g)\", fontsize=15)\n",
    "            axs[j,k].yaxis.set_major_locator(ticker.LogLocator(base=10.0, numticks=4))\n",
    "            axs[j,k].set_xlim(x[0],x[-1])\n",
    "            axs[j,k].tick_params(axis='x', labelsize=12, direction='inout', length=6, width=1, grid_alpha=0.5)\n",
    "            axs[j,k].tick_params(axis='y',labelsize=10, direction='inout', length=6, width=1, grid_alpha=0.5) \n",
    "            formatter = ticker.ScalarFormatter(useMathText=True)\n",
    "            formatter.set_scientific(True) \n",
    "            formatter.set_powerlimits((-1,1)) \n",
    "    else:\n",
    "        for k in range(len(MPforms)):\n",
    "            #Plot\n",
    "            y = extract_SizeBins (t, riverComp[j], MPforms[k])\n",
    "            axs[j,k].plot(x, y[0], linewidth=2.5,color=palette(0), label='0.1 um')\n",
    "            axs[j,k].plot(x, y[1], linewidth=2.5,color=palette(1), label='1 um')\n",
    "            axs[j,k].plot(x, y[2], linewidth=2.5,color=palette(2), label='10 um')\n",
    "            axs[j,k].plot(x, y[3], linewidth=2.5,color=palette(3), label='100 um')\n",
    "            axs[j,k].plot(x, y[4], linewidth=2.5,color=palette(4), label='1000 um')\n",
    "            if j== 0:\n",
    "                axs[j,k].text(0.5,1.1, MPformslabels[k] ,fontsize=15, transform= axs[j,k].transAxes, ha='center')        \n",
    "            if k==3:\n",
    "                axs[j,k].text(1.2, 0.5, compartmentsLabel[j] ,fontsize=15,rotation=0, va='center',ha='center', transform=axs[j,k].transAxes)\n",
    "            if k == 0:\n",
    "                axs[j,k].set_ylabel(\"Conc \"+ ConcPlot_units[0], fontsize=15)\n",
    "            axs[j,k].set_yscale('log')\n",
    "            \n",
    "            if j==0:\n",
    "                axs[j,k].set_ylim(10**-9,10**1)\n",
    "                axs[j,k].yaxis.set_major_locator(ticker.LogLocator(base=10.0, numticks=4))\n",
    "            elif j==1:\n",
    "                axs[j,k].set_ylim(10**-9,10**1)\n",
    "                axs[j,k].yaxis.set_major_locator(ticker.LogLocator(base=10.0, numticks=4))\n",
    "            elif j== 2:\n",
    "                axs[j,k].set_ylim(10**-9,10**1)\n",
    "                axs[j,k].yaxis.set_major_locator(ticker.LogLocator(base=10.0, numticks=4))\n",
    "            axs[j,k].set_xlim(x[0],x[-1])\n",
    "\n",
    "            axs[j,k].tick_params(axis='x', labelsize=10, direction='inout', length=6, width=1, grid_alpha=0.5)\n",
    "            axs[j,k].tick_params(axis='y',labelsize=10, direction='inout', length=6, width=1, grid_alpha=0.5)\n",
    "            from matplotlib import ticker\n",
    "            formatter = ticker.ScalarFormatter(useMathText=True)\n",
    "            formatter.set_scientific(True) \n",
    "            formatter.set_powerlimits((-1,1)) \n",
    "            axs[j,k].minorticks_on()\n",
    "            \n",
    "           \n",
    "# Axis titles\n",
    "#plt.text(0.02, 0.5, \"Concentration of particles (Num/$m^3$)\", fontsize=15, transform=plt.gcf().transFigure, rotation='vertical',ha='center', va='center')\n",
    "plt.text(0.5, 0.08, \"Distance (km)\", fontsize=15, transform=plt.gcf().transFigure, ha='center', va='center')\n",
    "#plt.legend(labels,bbox_to_anchor=(0.5, -0.18), loc='center',ncol=5, fontsize=15 )\n",
    "plt.subplots_adjust(wspace=0.02,hspace=0.1)\n",
    "handles, labels = axs[j,k].get_legend_handles_labels()\n",
    "fig2.legend(handles, labels, bbox_to_anchor=(0.5, 0.04), loc='center',ncol=5, fontsize=15)\n",
    "if imputPulse != 0:\n",
    "    fig2_label= \"ConcvsDist_Multiplot_\"+ composition +\"_\"+ConcPlot_units[1]+\"_Pulse.png\"\n",
    "else:\n",
    "    fig2_label= \"ConcvsDist_Multiplot_\"+ composition +\"_\"+ConcPlot_units[1]+\"_ConstantInflow.png\""
   ]
  },
  {
   "cell_type": "code",
   "execution_count": null,
   "metadata": {
    "ExecuteTime": {
     "end_time": "2022-07-11T12:47:26.357610Z",
     "start_time": "2022-07-11T12:47:26.026282Z"
    }
   },
   "outputs": [],
   "source": [
    "#Save static figure\n",
    "os.chdir(results_figures_path)\n",
    "fig2.savefig(fig2_label)\n",
    "os.chdir(cwd)"
   ]
  },
  {
   "cell_type": "code",
   "execution_count": null,
   "metadata": {
    "ExecuteTime": {
     "end_time": "2022-07-11T12:47:32.557121Z",
     "start_time": "2022-07-11T12:47:30.902295Z"
    }
   },
   "outputs": [],
   "source": [
    "#Move to figures folder\n",
    "os.chdir(results_figures_path)\n",
    "#Generate animation\n",
    "fig1, axs = plt.subplots(len(compartments),len(MPforms), figsize=(30, 15),sharex='col')\n",
    "labels = ['0.1 um', '1 um', '10 um', '100 um', '1000 um']\n",
    "if imputPulse != 0:\n",
    "    if imputFlow==0:\n",
    "        fig1.suptitle( composition +\" microplastics fate in generic river (pulse= \"+ str(imputPulse)+\" particles of 1mm)\", fontsize=30)\n",
    "        fig1.text(0.5,0.5,str(int(time_extract[t]/60/60/24)) + ' days', bbox=props, fontsize=24, transform=axs[j,k].transAxes, ha='center', va='center')\n",
    "    else:\n",
    "        fig1.suptitle( composition +\" microplastics fate in generic river (pulse= \"+ str(imputPulse)+\" + inflow= \"+str(imputFlow)+\" particles/min of 1mm)\", fontsize=30)\n",
    "else:\n",
    "    fig1.suptitle( composition +\" microplastics fate in generic river over time (inflow= \"+str(imputFlow)+\" particles/min of 1mm)\", fontsize=30)\n",
    "\n",
    "for j in range(len(compartments)):\n",
    "    for k in range(len(MPforms)):\n",
    "        #Plot\n",
    "        y = y_multiplot_time[t].iloc[j,k]\n",
    "        axs[j,k].plot(x, y[0], linewidth=2.5,color=palette(0), label='0.1 um')\n",
    "        axs[j,k].plot(x, y[1], linewidth=2.5,color=palette(1), label='1 um')\n",
    "        axs[j,k].plot(x, y[2], linewidth=2.5,color=palette(2), label='10 um')\n",
    "        axs[j,k].plot(x, y[3], linewidth=2.5,color=palette(3), label='100 um')\n",
    "        axs[j,k].plot(x, y[4], linewidth=2.5,color=palette(4), label='1000 um')\n",
    "        #axs[j,k].text(0.90,0.90,str(int(time_extract[t]/60/60/24)) + ' days', bbox=props, fontsize=24, transform=axs[j,k].transAxes, ha='center', va='center')\n",
    "        #Set axes labels and title\n",
    "        if j== 0:\n",
    "            axs[j,k].text(0.5,1.1, MPformslabels[k]+ \"\\n \" +str(RelativeAbun_MPtype_t.iloc[t,k+1])+ \" %\",fontsize=20, bbox=props2, transform= axs[j,k].transAxes, ha='center')        \n",
    "        else:\n",
    "            axs[j,k].set_title(MPformslabels[k]+ \" \" + composition+ \" particles in \"+ compartments[j],fontsize=15)\n",
    "\n",
    "        if k==0:\n",
    "            axs[j,k].text(-0.25, 0.5, compartmentsLabel[j]+\"\\n\"+str(RelativeAbun_Comp.iloc[t,j+1])+\" %\",fontsize=20,rotation=0, va='center',ha='center',bbox=props2, transform=axs[j,k].transAxes)\n",
    "\n",
    "\n",
    "        axs[j,k].set_yscale('log')\n",
    "        if j==0:\n",
    "            axs[j,k].set_ylim(10**-9,10**1)\n",
    "        elif j==1:\n",
    "            axs[j,k].set_ylim(10**-9,10**1)\n",
    "        elif j== 2:\n",
    "            axs[j,k].set_ylim(10**-9,10**1)\n",
    "        else:\n",
    "            axs[j,k].set_ylim(10**-9,10**1)\n",
    "        axs[j,k].set_xlim(x[0],x[-1])\n",
    "        axs[j,k].tick_params(axis='x', labelsize=12)\n",
    "        axs[j,k].tick_params(axis='y', labelsize=12)\n",
    "\n",
    "# Axis titles\n",
    "plt.text(0.05, 0.5, \"Concentration of particles \" +ConcPlot_units[0], fontsize=20, transform=plt.gcf().transFigure, rotation='vertical',ha='center', va='center')\n",
    "plt.text(0.5, 0.08, \"Distance (km)\", fontsize=20, transform=plt.gcf().transFigure, ha='center', va='center')\n",
    "#plt.legend(labels,bbox_to_anchor=(0.5, -0.18), loc='center',ncol=5, fontsize=15 )\n",
    "\n",
    "           \n",
    "if imputPulse != 0:\n",
    "    animationTitle= composition+ \"_MPs_fate_dynamicPlot_log_monthly_\"+ConcPlot_units[1]+\"_Pulse_.gif\"\n",
    "else:\n",
    "    animationTitle= composition+ \"_MPs_fate_dynamicPlot_log_monthly_\"+ConcPlot_units[1]+\"_ConstantInflow_\"+str(imputFlow)+\".gif\"\n",
    "\n",
    "fig1.legend(handles, labels, bbox_to_anchor=(0.5, 0.02), loc='center',ncol=5, fontsize=24)\n",
    "if imputPulse != 0:\n",
    "    fig1_label= composition+ \"_MPs_fate_ConcvsDist_Multiplot__log_monthly_\"+ConcPlot_units[1]+\"_Pulse.png\" \n",
    "else:\n",
    "    fig1_label= composition+ \"_MPs_fate_ConcvsDist_Multiplot__log_monthly_\"+ConcPlot_units[1]+\"_ConstantInflow.png\" \n",
    "\n",
    "#Save static figure\n",
    "os.chdir(results_figures_path)\n",
    "fig1.savefig(fig1_label)\n",
    "os.chdir(cwd)"
   ]
  },
  {
   "cell_type": "markdown",
   "metadata": {},
   "source": [
    "# Save results"
   ]
  },
  {
   "cell_type": "markdown",
   "metadata": {},
   "source": [
    "### Save Rate Constants table (.csv)"
   ]
  },
  {
   "cell_type": "code",
   "execution_count": null,
   "metadata": {
    "ExecuteTime": {
     "end_time": "2022-07-11T12:47:37.339680Z",
     "start_time": "2022-07-11T12:47:37.256718Z"
    }
   },
   "outputs": [],
   "source": [
    "dfRC_filename = \"RC_df\" + runtitle +\"_Testv2.0\"+ daterun_label + \".csv\"\n",
    "RC_df_final.to_csv(dfRC_filename)"
   ]
  },
  {
   "cell_type": "markdown",
   "metadata": {},
   "source": [
    "## Save Interactions matrix (.csv)"
   ]
  },
  {
   "cell_type": "code",
   "execution_count": null,
   "metadata": {
    "ExecuteTime": {
     "end_time": "2022-07-11T12:47:42.739527Z",
     "start_time": "2022-07-11T12:47:41.825815Z"
    }
   },
   "outputs": [],
   "source": [
    "#interactions dataframe to results folder\n",
    "interactions_filename = \"interactionsdf_\"+ runtitle +\"_Testv2.0\"+  daterun_label + \".csv\"\n",
    "interactions_df.to_csv(interactions_filename)\n"
   ]
  },
  {
   "cell_type": "markdown",
   "metadata": {},
   "source": [
    "## Save Results"
   ]
  },
  {
   "cell_type": "code",
   "execution_count": null,
   "metadata": {
    "ExecuteTime": {
     "end_time": "2022-07-11T12:47:49.775513Z",
     "start_time": "2022-07-11T12:47:47.963392Z"
    }
   },
   "outputs": [],
   "source": [
    "filename= \"ConcVStime_particleNum_m3_\"+ runtitle +\"_\"+ daterun_label+\".csv\"\n",
    "filename1= \"MassVStime_kg_\"+ runtitle +\"_\"+ daterun_label+\".csv\"\n",
    "ConcFinal_num_m3.to_csv(filename)\n",
    "ConcFinal_mg_m3.to_csv(filename1)\n",
    "RelativeAbun_MPtype_t.to_csv(\"Relative_abundance_MPtype_\"+composition+daterun_label+\".csv\")  \n",
    "RelativeAbun_Comp.to_csv(\"Relative_abundance_Compartment_\"+composition+daterun_label+\".csv\")  "
   ]
  },
  {
   "cell_type": "markdown",
   "metadata": {},
   "source": [
    "## Save figures"
   ]
  },
  {
   "cell_type": "code",
   "execution_count": null,
   "metadata": {
    "ExecuteTime": {
     "end_time": "2022-07-11T12:47:55.024555Z",
     "start_time": "2022-07-11T12:47:55.010590Z"
    }
   },
   "outputs": [],
   "source": [
    "for f in range(len(figures)):\n",
    "        figg=figures[f]\n",
    "        figg_name=png_labels[f]\n",
    "        figg.savefig(figg_name)\n",
    "fig2.savefig(fig2_label)"
   ]
  },
  {
   "cell_type": "code",
   "execution_count": null,
   "metadata": {},
   "outputs": [],
   "source": []
  }
 ],
 "metadata": {
  "kernelspec": {
   "display_name": "Python 3 (ipykernel)",
   "language": "python",
   "name": "python3"
  },
  "language_info": {
   "codemirror_mode": {
    "name": "ipython",
    "version": 3
   },
   "file_extension": ".py",
   "mimetype": "text/x-python",
   "name": "python",
   "nbconvert_exporter": "python",
   "pygments_lexer": "ipython3",
   "version": "3.8.18"
  }
 },
 "nbformat": 4,
 "nbformat_minor": 4
}
